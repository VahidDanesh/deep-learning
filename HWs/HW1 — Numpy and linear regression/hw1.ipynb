{
 "cells": [
  {
   "cell_type": "code",
   "execution_count": 621,
   "id": "6e64ba42",
   "metadata": {
    "deletable": false,
    "editable": false
   },
   "outputs": [],
   "source": [
    "# !pip install otter-grader\n",
    "# Initialize Otter\n",
    "import numpy as np\n",
    "import inspect\n",
    "import otter\n",
    "grader = otter.Notebook()"
   ]
  },
  {
   "cell_type": "markdown",
   "id": "771ad297-665d-4823-a9ac-29c20cec9532",
   "metadata": {},
   "source": [
    "# FILL IN YOUR NAME AND THE NAME OF YOUR PEER (IF ANY) BELOW"
   ]
  },
  {
   "cell_type": "markdown",
   "id": "dba4c0cd-beab-4e26-a178-b0183ffb76ff",
   "metadata": {},
   "source": [
    "**Name**: Vahid Danesh\n",
    "\n",
    "**Peer**: \\<replace this with your peer's name\\>\n",
    "\n",
    "## Collaboration policy\n",
    "Students are responsible for writing their own quizzes, assignments, and exams. For homework assignments, students are welcome (and encouraged) to discuss problems with one peer, **but each student must write their own assignment writeup and code individually**. The peer must be listed at the top of the writeup for each assignment. *Note: I will treat AI assistants as peers. That is, students are welcome to discuss problems with an AI assistant, but it is considered cheating to directly obtain an answer by querying the assistant. Please credit any AI assistant that you use.*"
   ]
  },
  {
   "cell_type": "markdown",
   "id": "9f886e42-7ac9-4a24-af9f-a50e2e377407",
   "metadata": {},
   "source": [
    "# Homework 1 -- Numpy and linear regression (100 pts)\n",
    "\n",
    "**Due:** Wednesday, September 3rd, 2025 at 11:59 pm\n",
    "\n",
    "Welcome to your first homework! Homeworks are designed to be a key teaching and learning mechanism, with conceptual, math, and coding questions that are designed to highlight the critical ideas in this course. You may choose to tackle questions in any order, but the homeworks are designed to be followed sequentially. Often, insights from earlier problems will help with later ones.\n",
    "\n",
    "You have 'free checking'! That means that you can check and submit your answer as many times as you want. Your best submission (the one that gives you the most points taking into account correctness and lateness) will be counted---you don't have to worry about it.\n",
    "\n",
    "We will use Jupyter/Colab notebooks throughout the semester for writing code and generating assignment outputs. \n",
    "\n",
    "Note that some questions have public tests, and others do not. These are only intended to provide insight into what may not be working in your solution, but they generally do not count toward your grade. Passing all public tests does not guarantee that you will obtain full marks for a problem. The per-question score given to you by Gradescope is the only feedback you will obtain about your grade. It is possible that `print` statements may cause your code to receive no marks for a given question, so I encourage you to remove/comment out any `print` statements before submitting your assignment. **If you pass public tests but fail to obtain full marks on Gradescope, it is your responsibility to debug your code further (e.g., by devising additional test cases).**\n",
    "\n",
    "## Numpy (20 pts)\n",
    "\n",
    "Machine learning algorithms almost always boil down to matrix computations, so we'll need a way to efficiently work with matrices.\n",
    "\n",
    "`numpy` is a package for doing a variety of numerical computations in Python that supports writing very compact and efficient code for handling arrays of data. It is used extensively in many fields requiring numerical analysis, so it is worth getting to know.\n",
    "\n",
    "We will start every code file that uses `numpy` with `import numpy as np`, so that we can reference `numpy` functions with the `np.` precedent. The fundamental data type in numpy is the multidimensional array, and arrays are usually generated from a nested list of values using the `np.array` command. Every `array` has a `shape` attribute, which is a tuple of dimension sizes.\n",
    "\n",
    "During the first few weeks of class we will use two-dimensional arrays almost exclusively, but we will need three- and four-dimensional arrays later in the course. Note that **we will use 2D arrays to represent both matrices and vectors!** This is one of several times where I will seem to be unnecessarily fussy about how we construct and manipulate vectors and matrices, but this will make it easier to catch errors in our code. Even if `[[1,2,3]]` and `[1,2,3]` may look the same to us, numpy functions can behave differently depending on which format you use. The first has two dimensions (it's a list of lists), while the second has only one (it's a single list). Using only 2D arrays for both matrices and vectors gives us predictable results from numpy operations.\n",
    "\n",
    "Using 2D arrays for matrices is clear enough, but what about column and row vectors? We will represent a column vector as a $d \\times 1$ array and a row vector as a $1 \\times d$ array. So for example, we will represent the three-element column vector, $$x=\\begin{bmatrix}1 \\\\ 5 \\\\ 3\\end{bmatrix}\\enspace,$$ as a $3\\times1$ `numpy` array. This array can be generated with \n",
    "```\n",
    "x = np.array([[1], [5], [3]]),\n",
    "```\n",
    "or by using the transpose of a $1\\times3$ array (a row vector) as in, \n",
    "```\n",
    "x = np.array([[1, 5, 3]]).T,\n",
    "```\n",
    "\n",
    "where you should take note of the \"double\" brackets.\n",
    "\n",
    "Before you begin, I would like to note that in this assignment I will not accept answers that use `for` or `while` loops. One reason for avoiding loops is efficiency. For many operations, numpy calls a compiled library written in C, and the library is far faster than interpreted Python (in part due to the low-level nature of C, optimizations like vectorization, and in some cases, parallelization). But the more important reason for avoiding loops is that using numpy library calls leads to simpler code that is easier to debug. So I expect that you should be able to transform loop operations into equivalent operations on numpy arrays, and we will practice in this assignment.\n",
    "\n",
    "Of course, there will be more complex algorithms that require loops, but when manipulating matrices you should always look for a solution without loops.\n",
    "\n",
    "You can find general documentation on `numpy` [here](https://docs.scipy.org/doc/numpy/user/quickstart.html).\n",
    "\n",
    "Numpy functions and features you should be familiar with for this assignment:\n",
    "- [`np.array`](https://docs.scipy.org/doc/numpy/reference/generated/numpy.array.html)\n",
    "- [`np.transpose`](https://docs.scipy.org/doc/numpy/reference/generated/numpy.transpose.html) (and the equivalent method `a.T`)\n",
    "- [`np.ndarray.shape`](https://docs.scipy.org/doc/numpy/reference/generated/numpy.ndarray.shape.html)\n",
    "- [`np.dot`](https://docs.scipy.org/doc/numpy/reference/generated/numpy.dot.html)\n",
    "- [`np.linalg.inv`](https://numpy.org/doc/stable/reference/generated/numpy.linalg.inv.html)\n",
    "- [`np.vstack`](https://numpy.org/doc/stable/reference/generated/numpy.vstack.html)\n",
    "- [`np.ones`](https://numpy.org/doc/stable/reference/generated/numpy.ones.html)\n",
    "- [`np.sqrt`](https://numpy.org/doc/stable/reference/generated/numpy.sqrt.html)\n",
    "- Elementwise operators `+`, `-`, `*`, `/`\n",
    "\n",
    "**Note that in Python, `np.dot(a, b)` is the matrix product `a @ b`, not the dot product $a^\\top b$.**\n",
    "\n",
    "If you're unfamiliar with numpy and want to see some examples of how to use it, please see this link: [Numpy Overview](https://introml.mit.edu/spring23/info/numpy_overview/)."
   ]
  },
  {
   "cell_type": "markdown",
   "id": "e3609aff-c451-46e9-8022-d32c88f0e5b5",
   "metadata": {
    "deletable": false,
    "editable": false
   },
   "source": [
    "### 1.1) Array Basics (4 pts)\n",
    "#### 1.1.1) Creating Arrays\n",
    "\n",
    "Provide an expression that sets `A` to be a $2 \\times 3$ `numpy` array (2 rows by 3 columns), containing any values you wish.\n",
    "\n",
    "_Points:_ 2"
   ]
  },
  {
   "cell_type": "code",
   "execution_count": 622,
   "id": "95bed256-efed-4c0d-a006-f66d7b6f2344",
   "metadata": {
    "tags": [
     "otter_answer_cell"
    ]
   },
   "outputs": [],
   "source": [
    "A_111 = np.array([[3, 2, 4], \n",
    "                  [2, 0, 2]])"
   ]
  },
  {
   "cell_type": "markdown",
   "id": "1e01b9ba-e7cf-4f15-9cdf-9c72bac5bbe3",
   "metadata": {
    "deletable": false,
    "editable": false
   },
   "source": [
    "#### 1.1.2) Transpose\n",
    "\n",
    "Write a procedure that takes an array and returns the transpose of the array. You can use `np.transpose` or the property `T`, but you may not use loops.\n",
    "\n",
    "Note: as with other coding problems in ESE 577, you do  not need to call the procedure; it will be called/tested when submitted.\n",
    "\n",
    "_Points:_ 2"
   ]
  },
  {
   "cell_type": "code",
   "execution_count": 623,
   "id": "6e67822b-1e89-442f-a58b-e54c1ab6f175",
   "metadata": {
    "tags": [
     "otter_answer_cell"
    ]
   },
   "outputs": [],
   "source": [
    "def tp_112(A):\n",
    "    if not isinstance(A, np.ndarray):\n",
    "        A = np.array(A)\n",
    "    return A.T"
   ]
  },
  {
   "cell_type": "code",
   "execution_count": 624,
   "id": "ee224593",
   "metadata": {
    "deletable": false,
    "editable": false
   },
   "outputs": [
    {
     "data": {
      "text/html": [
       "<p><strong><pre style='display: inline;'>q1.1.2</pre></strong> passed! 🍀</p>"
      ],
      "text/plain": [
       "q1.1.2 results: All test cases passed!"
      ]
     },
     "execution_count": 624,
     "metadata": {},
     "output_type": "execute_result"
    }
   ],
   "source": [
    "grader.check(\"q1.1.2\")"
   ]
  },
  {
   "cell_type": "markdown",
   "id": "3d5fb510-8103-4cdf-b062-4eb19ecafc75",
   "metadata": {},
   "source": [
    "### 1.2) Shapes (4 pts)\n",
    "\n",
    "_Hint: If you ge stuck, code and run these expressions (with array values of your choosing), then print out the shape using `A.shape`._\n",
    "\n",
    "Let `A` be a $4 \\times 2$ numpy array, `B` be a $4 \\times 3$ array, and `C` be a $4 \\times 1$ rray. For each of the following expressions, indicate the shape of the result as a tuple of integers (**recall that Python tuples use parentheses, not square brackets, which are for lists, and a tuple with just one item `x` in it is written as (x,) with a comma**). Write `None` (as the Python value None) if the expression is illegal.\n",
    "\n",
    "For example\n",
    "- If the result array was `[45, 36, 75]`, the shape is `(3,)`\n",
    "- If the result array was `[[1, 2, 3], [4, 5, 6]]`, the shape is `(2, 3)`"
   ]
  },
  {
   "cell_type": "markdown",
   "id": "c01aa84a-8f23-4d29-9664-c593645ca04e",
   "metadata": {
    "deletable": false,
    "editable": false
   },
   "source": [
    "#### 1.2.1)\n",
    "`np.array([1, 2, 3])`\n",
    "\n",
    "\n",
    "_Points:_ 0.5"
   ]
  },
  {
   "cell_type": "code",
   "execution_count": 625,
   "id": "2751fe6c-d406-44f2-b0de-bd69d9249c6c",
   "metadata": {
    "tags": [
     "otter_answer_cell"
    ]
   },
   "outputs": [],
   "source": [
    "shape_121 = (3,)"
   ]
  },
  {
   "cell_type": "code",
   "execution_count": 626,
   "id": "69b90648",
   "metadata": {
    "deletable": false,
    "editable": false
   },
   "outputs": [
    {
     "data": {
      "text/html": [
       "<p><strong><pre style='display: inline;'>q1.2.1</pre></strong> passed! 🍀</p>"
      ],
      "text/plain": [
       "q1.2.1 results: All test cases passed!"
      ]
     },
     "execution_count": 626,
     "metadata": {},
     "output_type": "execute_result"
    }
   ],
   "source": [
    "grader.check(\"q1.2.1\")"
   ]
  },
  {
   "cell_type": "markdown",
   "id": "638ad1f9-8835-4163-86dd-4d5fb0bd9059",
   "metadata": {
    "deletable": false,
    "editable": false
   },
   "source": [
    "#### 1.2.2)\n",
    "`np.array([[1, 2, 3]])`\n",
    "\n",
    "\n",
    "_Points:_ 0.5"
   ]
  },
  {
   "cell_type": "code",
   "execution_count": 627,
   "id": "c1a9602c-8fac-4a80-81b1-2ed4b2cb7568",
   "metadata": {
    "tags": [
     "otter_answer_cell"
    ]
   },
   "outputs": [],
   "source": [
    "shape_122 = (1, 3)"
   ]
  },
  {
   "cell_type": "code",
   "execution_count": 628,
   "id": "e15af100",
   "metadata": {
    "deletable": false,
    "editable": false
   },
   "outputs": [
    {
     "data": {
      "text/html": [
       "<p><strong><pre style='display: inline;'>q1.2.2</pre></strong> passed! ✨</p>"
      ],
      "text/plain": [
       "q1.2.2 results: All test cases passed!"
      ]
     },
     "execution_count": 628,
     "metadata": {},
     "output_type": "execute_result"
    }
   ],
   "source": [
    "grader.check(\"q1.2.2\")"
   ]
  },
  {
   "cell_type": "markdown",
   "id": "67d0ed6e-c251-40d6-8113-d30fe20c5c6a",
   "metadata": {
    "deletable": false,
    "editable": false
   },
   "source": [
    "#### 1.2.3)\n",
    "\n",
    "Reminder: `A` is $4\\times 2$, `B` is $4\\times3$, and `C` is $4\\times1$.\n",
    "\n",
    "`C * C`\n",
    "\n",
    "\n",
    "_Points:_ 0.5"
   ]
  },
  {
   "cell_type": "code",
   "execution_count": 629,
   "id": "96ef9b65-f163-4c76-be97-505d9f7a401d",
   "metadata": {
    "tags": [
     "otter_answer_cell"
    ]
   },
   "outputs": [],
   "source": [
    "shape_123 = (4, 1)"
   ]
  },
  {
   "cell_type": "code",
   "execution_count": 630,
   "id": "f8d0e9b6",
   "metadata": {
    "deletable": false,
    "editable": false
   },
   "outputs": [
    {
     "data": {
      "text/html": [
       "<p><strong><pre style='display: inline;'>q1.2.3</pre></strong> passed! 🌈</p>"
      ],
      "text/plain": [
       "q1.2.3 results: All test cases passed!"
      ]
     },
     "execution_count": 630,
     "metadata": {},
     "output_type": "execute_result"
    }
   ],
   "source": [
    "grader.check(\"q1.2.3\")"
   ]
  },
  {
   "cell_type": "markdown",
   "id": "3d89b77b-1984-408c-94d5-979e72101286",
   "metadata": {
    "deletable": false,
    "editable": false
   },
   "source": [
    "#### 1.2.4)\n",
    "\n",
    "Reminder: `A` is $4\\times 2$, `B` is $4\\times3$, and `C` is $4\\times1$.\n",
    "\n",
    "`np.dot(C, C)`\n",
    "\n",
    "\n",
    "_Points:_ 1"
   ]
  },
  {
   "cell_type": "code",
   "execution_count": 631,
   "id": "dda759b9-acc2-4485-b014-e6ca6f84c9eb",
   "metadata": {
    "tags": [
     "otter_answer_cell"
    ]
   },
   "outputs": [],
   "source": [
    "shape_124 = None"
   ]
  },
  {
   "cell_type": "code",
   "execution_count": 632,
   "id": "e51081b6",
   "metadata": {
    "deletable": false,
    "editable": false
   },
   "outputs": [
    {
     "data": {
      "text/html": [
       "<p><strong><pre style='display: inline;'>q1.2.4</pre></strong> passed! 🚀</p>"
      ],
      "text/plain": [
       "q1.2.4 results: All test cases passed!"
      ]
     },
     "execution_count": 632,
     "metadata": {},
     "output_type": "execute_result"
    }
   ],
   "source": [
    "grader.check(\"q1.2.4\")"
   ]
  },
  {
   "cell_type": "markdown",
   "id": "85a3dd20-ac02-436d-af98-70669fd264e5",
   "metadata": {
    "deletable": false,
    "editable": false
   },
   "source": [
    "#### 1.2.5)\n",
    "\n",
    "Reminder: `A` is $4\\times 2$, `B` is $4\\times3$, and `C` is $4\\times1$.\n",
    "\n",
    "`np.dot(np.transpose(C), C)`\n",
    "\n",
    "\n",
    "_Points:_ 0.5"
   ]
  },
  {
   "cell_type": "code",
   "execution_count": 633,
   "id": "43eabba3-927a-459e-92cb-21aca3bc1699",
   "metadata": {
    "tags": [
     "otter_answer_cell"
    ]
   },
   "outputs": [],
   "source": [
    "shape_125 = (1, 1)"
   ]
  },
  {
   "cell_type": "code",
   "execution_count": 634,
   "id": "44fd28f9",
   "metadata": {
    "deletable": false,
    "editable": false
   },
   "outputs": [
    {
     "data": {
      "text/html": [
       "<p><strong><pre style='display: inline;'>q1.2.5</pre></strong> passed! ✨</p>"
      ],
      "text/plain": [
       "q1.2.5 results: All test cases passed!"
      ]
     },
     "execution_count": 634,
     "metadata": {},
     "output_type": "execute_result"
    }
   ],
   "source": [
    "grader.check(\"q1.2.5\")"
   ]
  },
  {
   "cell_type": "markdown",
   "id": "3a946c7b-b418-4ee6-92cf-a2d4914fe6ae",
   "metadata": {
    "deletable": false,
    "editable": false
   },
   "source": [
    "#### 1.2.6)\n",
    "\n",
    "Reminder: `A` is $4\\times 2$, `B` is $4\\times3$, and `C` is $4\\times1$.\n",
    "\n",
    "`np.dot(A, B)`\n",
    "\n",
    "\n",
    "_Points:_ 0.5"
   ]
  },
  {
   "cell_type": "code",
   "execution_count": 635,
   "id": "bed72e54-a1d3-4401-a797-94c10775ebb6",
   "metadata": {
    "tags": [
     "otter_answer_cell"
    ]
   },
   "outputs": [],
   "source": [
    "shape_126 = None"
   ]
  },
  {
   "cell_type": "code",
   "execution_count": 636,
   "id": "a6bcadab",
   "metadata": {
    "deletable": false,
    "editable": false
   },
   "outputs": [
    {
     "data": {
      "text/html": [
       "<p><strong><pre style='display: inline;'>q1.2.6</pre></strong> passed! 🌟</p>"
      ],
      "text/plain": [
       "q1.2.6 results: All test cases passed!"
      ]
     },
     "execution_count": 636,
     "metadata": {},
     "output_type": "execute_result"
    }
   ],
   "source": [
    "grader.check(\"q1.2.6\")"
   ]
  },
  {
   "cell_type": "markdown",
   "id": "22c19e36-62d2-4f36-87d5-01e66fa9c833",
   "metadata": {
    "deletable": false,
    "editable": false
   },
   "source": [
    "#### 1.2.7) \n",
    "\n",
    "Reminder: `A` is $4\\times 2$, `B` is $4\\times3$, and `C` is $4\\times1$.\n",
    "\n",
    "`np.dot(A.T, B)`\n",
    "\n",
    "\n",
    "_Points:_ 0.5"
   ]
  },
  {
   "cell_type": "code",
   "execution_count": 637,
   "id": "0e7008a7-61ea-40a8-8935-bc365b9bbb5a",
   "metadata": {
    "tags": [
     "otter_answer_cell"
    ]
   },
   "outputs": [],
   "source": [
    "shape_127 = (2, 3)"
   ]
  },
  {
   "cell_type": "code",
   "execution_count": 638,
   "id": "bb4e50bd",
   "metadata": {
    "deletable": false,
    "editable": false
   },
   "outputs": [
    {
     "data": {
      "text/html": [
       "<p><strong><pre style='display: inline;'>q1.2.7</pre></strong> passed! 🚀</p>"
      ],
      "text/plain": [
       "q1.2.7 results: All test cases passed!"
      ]
     },
     "execution_count": 638,
     "metadata": {},
     "output_type": "execute_result"
    }
   ],
   "source": [
    "grader.check(\"q1.2.7\")"
   ]
  },
  {
   "cell_type": "markdown",
   "id": "4bfb3747-8a2b-49a2-8d6b-c46b8722d127",
   "metadata": {},
   "source": [
    "<font color='blue'>Hint: for more compact and legible code, use `@` for matrix multiplication, instead of `np.dot`. If `A` and `B` are matrices (2D numpy arrays), then `A @ B = np.dot(A, B)`.</font>\n",
    "\n",
    "### 1.3) Indexing vs. slicing (4 pts)\n",
    "\n",
    "The shape of the resulting array is different depending on if you use indexing or slicing. **Indexing** refers to selecting particular elements of an array by using a single number (the index) to specify a particular row or column. **Slicing** refers to selecting a subset of the array by specifying a range of indices.\n",
    "\n",
    "If you're unfamiliar with these terms, and the indexing and slicing rules of arrays, please see the indexing and slicing sections of this link: [Numpy Overview](https://introml.mit.edu/spring23/info/numpy_overview/) (same as the Numpy Overview link from the introduction). You can also look at the official numpy documentation [here](https://numpy.org/doc/stable/reference/arrays.indexing.html). \n",
    "\n",
    "In the following questions, let `A = np.array([[5, 7, 10, 14], [2, 4, 8, 9]])`.\n",
    "\n",
    "Write down what the output would be for each of the following expressions. Write resulting arrays using Python scalar (for 0-dimensional arrays), list (for 1-dimensional arrays), or list of lists (for 2-dimensional arrays) format with brackets `[]` as necessary (e.g., what would be passed into numpy array to construct the array, as in `[1, 2]` for the array `np.array([1, 2])`). If the operation is invalid, write the Python value `None`.\n",
    "\n",
    "_Note: Remember that Python uses zero-indexing and thus starts counting from 0, not 1. This is different from R or MATLAB._"
   ]
  },
  {
   "cell_type": "markdown",
   "id": "da2ad2af-7801-4e6c-8fd0-8db82bc7a99b",
   "metadata": {
    "deletable": false,
    "editable": false
   },
   "source": [
    "#### 1.3.1) Indexing\n",
    "`A[1,2]`\n",
    "\n",
    "\n",
    "_Points:_ 0.5"
   ]
  },
  {
   "cell_type": "code",
   "execution_count": 639,
   "id": "2df2d0a8-29a8-4fd1-9c18-85ddd97f28e9",
   "metadata": {
    "tags": [
     "otter_answer_cell"
    ]
   },
   "outputs": [],
   "source": [
    "result_131 = 8"
   ]
  },
  {
   "cell_type": "code",
   "execution_count": 640,
   "id": "34089b56",
   "metadata": {
    "deletable": false,
    "editable": false
   },
   "outputs": [
    {
     "data": {
      "text/html": [
       "<p><strong><pre style='display: inline;'>q1.3.1</pre></strong> passed! 🙌</p>"
      ],
      "text/plain": [
       "q1.3.1 results: All test cases passed!"
      ]
     },
     "execution_count": 640,
     "metadata": {},
     "output_type": "execute_result"
    }
   ],
   "source": [
    "grader.check(\"q1.3.1\")"
   ]
  },
  {
   "cell_type": "markdown",
   "id": "68bbaa3a-b1c8-4ef5-9e45-ee3383acf92d",
   "metadata": {
    "deletable": false,
    "editable": false
   },
   "source": [
    "#### 1.3.2) Indexing, revisited\n",
    "\n",
    "Reminder: `A = np.array([[5, 7, 10, 14], [2, 4, 8, 9]])`\n",
    "\n",
    "`A[1,8]`\n",
    "\n",
    "_Points:_ 0.5"
   ]
  },
  {
   "cell_type": "code",
   "execution_count": 641,
   "id": "fb46eefa-18d9-4a11-90b4-b0c5850a20eb",
   "metadata": {
    "tags": [
     "otter_answer_cell"
    ]
   },
   "outputs": [],
   "source": [
    "result_132 = None"
   ]
  },
  {
   "cell_type": "code",
   "execution_count": 642,
   "id": "6e31665f",
   "metadata": {
    "deletable": false,
    "editable": false
   },
   "outputs": [
    {
     "data": {
      "text/html": [
       "<p><strong><pre style='display: inline;'>q1.3.2</pre></strong> passed! 🌟</p>"
      ],
      "text/plain": [
       "q1.3.2 results: All test cases passed!"
      ]
     },
     "execution_count": 642,
     "metadata": {},
     "output_type": "execute_result"
    }
   ],
   "source": [
    "grader.check(\"q1.3.2\")"
   ]
  },
  {
   "cell_type": "markdown",
   "id": "bf182867-143d-480a-a20e-21d569fb11a2",
   "metadata": {
    "deletable": false,
    "editable": false
   },
   "source": [
    "#### 1.3.3) Slicing\n",
    "\n",
    "Reminder: `A = np.array([[5, 7, 10, 14], [2, 4, 8, 9]])`\n",
    "\n",
    "`A[0:1, 1:3]`\n",
    "\n",
    "\n",
    "_Points:_ 0.5"
   ]
  },
  {
   "cell_type": "code",
   "execution_count": 643,
   "id": "003b82b5-7116-4705-8351-50feb5233793",
   "metadata": {
    "tags": [
     "otter_answer_cell"
    ]
   },
   "outputs": [],
   "source": [
    "result_133 = [[7, 10]]"
   ]
  },
  {
   "cell_type": "code",
   "execution_count": 644,
   "id": "a350499d",
   "metadata": {
    "deletable": false,
    "editable": false
   },
   "outputs": [
    {
     "data": {
      "text/html": [
       "<p><strong><pre style='display: inline;'>q1.3.3</pre></strong> passed! 🍀</p>"
      ],
      "text/plain": [
       "q1.3.3 results: All test cases passed!"
      ]
     },
     "execution_count": 644,
     "metadata": {},
     "output_type": "execute_result"
    }
   ],
   "source": [
    "grader.check(\"q1.3.3\")"
   ]
  },
  {
   "cell_type": "markdown",
   "id": "3508fb18-ad71-44d9-a2f0-666b15d15929",
   "metadata": {
    "deletable": false,
    "editable": false
   },
   "source": [
    "#### 1.3.4) Slicing, revisited\n",
    "\n",
    "Reminder: `A = np.array([[5, 7, 10, 14], [2, 4, 8, 9]])`\n",
    "\n",
    "`A[0:1, 1:20]`\n",
    "\n",
    "\n",
    "_Points:_ 0.5"
   ]
  },
  {
   "cell_type": "code",
   "execution_count": 645,
   "id": "97a8ef2d-6334-4144-add2-21d419031181",
   "metadata": {
    "tags": [
     "otter_answer_cell"
    ]
   },
   "outputs": [],
   "source": [
    "result_134 = [[7, 10, 14]]"
   ]
  },
  {
   "cell_type": "code",
   "execution_count": 646,
   "id": "b16d468f",
   "metadata": {
    "deletable": false,
    "editable": false
   },
   "outputs": [
    {
     "data": {
      "text/html": [
       "<p><strong><pre style='display: inline;'>q1.3.4</pre></strong> passed! 💯</p>"
      ],
      "text/plain": [
       "q1.3.4 results: All test cases passed!"
      ]
     },
     "execution_count": 646,
     "metadata": {},
     "output_type": "execute_result"
    }
   ],
   "source": [
    "grader.check(\"q1.3.4\")"
   ]
  },
  {
   "cell_type": "markdown",
   "id": "2343cd57-eb03-43da-ac46-56d7ee15e980",
   "metadata": {
    "deletable": false,
    "editable": false
   },
   "source": [
    "#### 1.3.5) Lone colon slicing\n",
    "\n",
    "Reminder: `A = np.array([[5, 7, 10, 14], [2, 4, 8, 9]])`\n",
    "\n",
    "`A[1:, :2]`\n",
    "\n",
    "_Points:_ 0.5"
   ]
  },
  {
   "cell_type": "code",
   "execution_count": 647,
   "id": "7edb6779-8732-4757-ab41-73cbaf55bb12",
   "metadata": {
    "tags": [
     "otter_answer_cell"
    ]
   },
   "outputs": [],
   "source": [
    "result_135 = [[2, 4]]"
   ]
  },
  {
   "cell_type": "code",
   "execution_count": 648,
   "id": "5bae5773",
   "metadata": {
    "deletable": false,
    "editable": false
   },
   "outputs": [
    {
     "data": {
      "text/html": [
       "<p><strong><pre style='display: inline;'>q1.3.5</pre></strong> passed! 🚀</p>"
      ],
      "text/plain": [
       "q1.3.5 results: All test cases passed!"
      ]
     },
     "execution_count": 648,
     "metadata": {},
     "output_type": "execute_result"
    }
   ],
   "source": [
    "grader.check(\"q1.3.5\")"
   ]
  },
  {
   "cell_type": "markdown",
   "id": "41752580-256d-4283-87d6-256354b1d051",
   "metadata": {
    "deletable": false,
    "editable": false
   },
   "source": [
    "#### 1.3.6) Combining indexing and slicing\n",
    "\n",
    "Reminder: `A = np.array([[5, 7, 10, 14], [2, 4, 8, 9]])`\n",
    "\n",
    "`A[1, 1:3]`\n",
    "\n",
    "\n",
    "_Points:_ 0.5"
   ]
  },
  {
   "cell_type": "code",
   "execution_count": 649,
   "id": "7765421e-b5de-4740-aa21-593177808d22",
   "metadata": {
    "tags": [
     "otter_answer_cell"
    ]
   },
   "outputs": [],
   "source": [
    "result_136 = [4, 8]"
   ]
  },
  {
   "cell_type": "code",
   "execution_count": 650,
   "id": "a1c8caf0",
   "metadata": {
    "deletable": false,
    "editable": false
   },
   "outputs": [
    {
     "data": {
      "text/html": [
       "<p><strong><pre style='display: inline;'>q1.3.6</pre></strong> passed! 💯</p>"
      ],
      "text/plain": [
       "q1.3.6 results: All test cases passed!"
      ]
     },
     "execution_count": 650,
     "metadata": {},
     "output_type": "execute_result"
    }
   ],
   "source": [
    "grader.check(\"q1.3.6\")"
   ]
  },
  {
   "cell_type": "markdown",
   "id": "27cad024-ac94-4dfb-bf62-21ef8a03fa7a",
   "metadata": {
    "deletable": false,
    "editable": false
   },
   "source": [
    "#### 1.3.7) Slicing and indexing, revisited\n",
    "\n",
    "Reminder: `A = np.array([[5, 7, 10, 14], [2, 4, 8, 9]])`\n",
    "\n",
    "`A[:, 1]`\n",
    "\n",
    "_Points:_ 0.5"
   ]
  },
  {
   "cell_type": "code",
   "execution_count": 651,
   "id": "ca252135-ad2a-4187-9f40-6ccb7adb9c97",
   "metadata": {
    "tags": [
     "otter_answer_cell"
    ]
   },
   "outputs": [],
   "source": [
    "result_137 = [7, 4]"
   ]
  },
  {
   "cell_type": "code",
   "execution_count": 652,
   "id": "0fc13695",
   "metadata": {
    "deletable": false,
    "editable": false
   },
   "outputs": [
    {
     "data": {
      "text/html": [
       "<p><strong><pre style='display: inline;'>q1.3.7</pre></strong> passed! 🌈</p>"
      ],
      "text/plain": [
       "q1.3.7 results: All test cases passed!"
      ]
     },
     "execution_count": 652,
     "metadata": {},
     "output_type": "execute_result"
    }
   ],
   "source": [
    "grader.check(\"q1.3.7\")"
   ]
  },
  {
   "cell_type": "markdown",
   "id": "cc45c5cd-3253-4e5e-9ddf-4d516d31ecfa",
   "metadata": {
    "deletable": false,
    "editable": false
   },
   "source": [
    "#### 1.3.8) Slicing and indexing, revisited again\n",
    "\n",
    "Reminder: `A = np.array([[5, 7, 10, 14], [2, 4, 8, 9]])`\n",
    "\n",
    "`A[:, 1:2]`\n",
    "\n",
    "\n",
    "_Points:_ 0.5"
   ]
  },
  {
   "cell_type": "code",
   "execution_count": 653,
   "id": "b7292feb-af63-4f7f-9d9a-e30a41d35046",
   "metadata": {
    "tags": [
     "otter_answer_cell"
    ]
   },
   "outputs": [],
   "source": [
    "result_138 = [[7], [4]]"
   ]
  },
  {
   "cell_type": "code",
   "execution_count": 654,
   "id": "faa325c6",
   "metadata": {
    "deletable": false,
    "editable": false
   },
   "outputs": [
    {
     "data": {
      "text/html": [
       "<p><strong><pre style='display: inline;'>q1.3.8</pre></strong> passed! 💯</p>"
      ],
      "text/plain": [
       "q1.3.8 results: All test cases passed!"
      ]
     },
     "execution_count": 654,
     "metadata": {},
     "output_type": "execute_result"
    }
   ],
   "source": [
    "grader.check(\"q1.3.8\")"
   ]
  },
  {
   "cell_type": "markdown",
   "id": "a271c2c5-d7ba-42c0-bd4c-e1859c681dad",
   "metadata": {},
   "source": [
    "### Debugging Advice\n",
    "\n",
    "The following tips are helpful when debugging code:\n",
    "- Read the problem carefully and write down any relevant equations or pseudocode\n",
    "- Google the error and/or check StackOverflow\n",
    "- Identify which line of code is causing errors -- `print()` statements are helpful for this\n",
    "- Check that you're using the right type of matrix multiplication (`*` vs `@` vs `np.dot()`)\n",
    "- Check that you're performing an operation over the correct axis (row or column)\n",
    "- Read documentation to ensure you're using the function correctly\n",
    "- Work out a small example by hand and ensure your code is giving the correct results at each intermediate step\n",
    "- Explain your code to a friend or [rubber duck](https://en.wikipedia.org/wiki/Rubber_duck_debugging)\n",
    "- Check dimensions of your variables by printing their shapes\n",
    "- Print out intermediate results in the code\n",
    "- Come to office hours / post on Piazza if you're stuck!\n",
    "\n",
    "### 1.4) Coding practice\n",
    "\n",
    "Now that we're familiar with numpy arrays, let's practice actually using numpy in our code!\n",
    "\n",
    "In the following questions, you must get the shapes of the output correct for your answer to be accepted. If your answer contains the right numbers but the grader is still saying your answers are incorrect check the shapes of your output. The number and placement of brackets need to match!"
   ]
  },
  {
   "cell_type": "markdown",
   "id": "da812572-8a09-4bc6-9227-f30456298d30",
   "metadata": {
    "deletable": false,
    "editable": false
   },
   "source": [
    "#### 1.4.1) Row vector\n",
    "\n",
    "Write a procedure that takes a list of numbers and returns a 2D `numpy` array representing a **row** vector containing those numbers. Recall that a row vector in our usage will have the shape `(1, d)`, where `d` is the number of elements in the row.\n",
    "\n",
    "\n",
    "_Points:_ 0.5"
   ]
  },
  {
   "cell_type": "code",
   "execution_count": 655,
   "id": "2a43a4a5-2357-4b28-9c0b-c073944a5056",
   "metadata": {
    "tags": [
     "otter_answer_cell"
    ]
   },
   "outputs": [],
   "source": [
    "def rv_141(value_list):\n",
    "    return np.array(value_list).reshape(1, -1)"
   ]
  },
  {
   "cell_type": "code",
   "execution_count": 656,
   "id": "a104c038",
   "metadata": {
    "deletable": false,
    "editable": false
   },
   "outputs": [
    {
     "data": {
      "text/html": [
       "<p><strong><pre style='display: inline;'>q1.4.1</pre></strong> passed! 🌈</p>"
      ],
      "text/plain": [
       "q1.4.1 results: All test cases passed!"
      ]
     },
     "execution_count": 656,
     "metadata": {},
     "output_type": "execute_result"
    }
   ],
   "source": [
    "grader.check(\"q1.4.1\")"
   ]
  },
  {
   "cell_type": "markdown",
   "id": "5d1ff6d8-967e-4a1f-9029-b47cd0a8eddc",
   "metadata": {
    "deletable": false,
    "editable": false
   },
   "source": [
    "#### 1.4.2) Column vector\n",
    "\n",
    "Write a procedure that takes a list of numbers and returns a 2D `numpy` array representing a **column** vector containing those numbers. You can use the `rv` procedure.\n",
    "\n",
    "\n",
    "_Points:_ 0.5"
   ]
  },
  {
   "cell_type": "code",
   "execution_count": 657,
   "id": "710fbda4-d6e3-4560-8a22-e57a02cfb49b",
   "metadata": {
    "tags": [
     "otter_answer_cell"
    ]
   },
   "outputs": [],
   "source": [
    "def cv_142(value_list):\n",
    "    return np.array(value_list).reshape(-1, 1)"
   ]
  },
  {
   "cell_type": "code",
   "execution_count": 658,
   "id": "62be9caf",
   "metadata": {
    "deletable": false,
    "editable": false
   },
   "outputs": [
    {
     "data": {
      "text/html": [
       "<p><strong><pre style='display: inline;'>q1.4.2</pre></strong> passed! 💯</p>"
      ],
      "text/plain": [
       "q1.4.2 results: All test cases passed!"
      ]
     },
     "execution_count": 658,
     "metadata": {},
     "output_type": "execute_result"
    }
   ],
   "source": [
    "grader.check(\"q1.4.2\")"
   ]
  },
  {
   "cell_type": "markdown",
   "id": "9d655587-4a70-4dc2-939f-b94664882eac",
   "metadata": {
    "deletable": false,
    "editable": false
   },
   "source": [
    "#### 1.4.3) Length\n",
    "\n",
    "Write a procedure that takes a column vector and returns the vector's Euclidean length (or equivalently, its magnitude) as a scalar (single number). You may not use `np.linalg.norm` and you may not use loops.\n",
    "\n",
    "Remember that the formula for the Euclidean length for a vector $\\mathbf{x}$ is: $$\\mathrm{length}(\\mathbf{x}) = \\sqrt{x_1^2 + x_2^2 + \\cdots + x_n^2} = \\sqrt{\\sum_{i=1}^n x_i^2}\\enspace.$$\n",
    "\n",
    "_Points:_ 1"
   ]
  },
  {
   "cell_type": "code",
   "execution_count": 659,
   "id": "98b263b6-6b01-4a73-aa31-fbe14100fc04",
   "metadata": {
    "tags": [
     "otter_answer_cell"
    ]
   },
   "outputs": [],
   "source": [
    "def length_143(col_v):\n",
    "    return np.sqrt(np.sum(col_v**2))"
   ]
  },
  {
   "cell_type": "code",
   "execution_count": 660,
   "id": "cee3a706",
   "metadata": {
    "deletable": false,
    "editable": false
   },
   "outputs": [
    {
     "data": {
      "text/html": [
       "<p><strong><pre style='display: inline;'>q1.4.3</pre></strong> passed! 🌈</p>"
      ],
      "text/plain": [
       "q1.4.3 results: All test cases passed!"
      ]
     },
     "execution_count": 660,
     "metadata": {},
     "output_type": "execute_result"
    }
   ],
   "source": [
    "grader.check(\"q1.4.3\")"
   ]
  },
  {
   "cell_type": "markdown",
   "id": "f90c57a5-e8fa-4950-8cd9-fcf4e44a35d8",
   "metadata": {
    "deletable": false,
    "editable": false
   },
   "source": [
    "#### 1.4.4) Normalize\n",
    "\n",
    "Write a procedure that takes a column vector and returns a unit vector (a vector of length $1$) in the same direction. You can assume that the input vector will be of dimension 1 or greater (i.e., not a zero vector). You may not use loops. Use your `length` procedure from above (you do not need to define it again). Mathematically, we can obtain a normalized vector by dividing each element of the original vector by the length of the vector: $${x_{\\mathrm{norm}}}_i = \\frac{x_i}{\\mathrm{length}(\\mathbf{x})}\\enspace.$$\n",
    "\n",
    "\n",
    "_Points:_ 1"
   ]
  },
  {
   "cell_type": "code",
   "execution_count": 661,
   "id": "57b6a439-dcbe-4466-86d3-69b26e90d7b4",
   "metadata": {
    "tags": [
     "otter_answer_cell"
    ]
   },
   "outputs": [],
   "source": [
    "def normalize_144(col_v):\n",
    "    return col_v / length_143(col_v)"
   ]
  },
  {
   "cell_type": "code",
   "execution_count": 662,
   "id": "1673ecf9",
   "metadata": {
    "deletable": false,
    "editable": false
   },
   "outputs": [
    {
     "data": {
      "text/html": [
       "<p><strong><pre style='display: inline;'>q1.4.4</pre></strong> passed! 🍀</p>"
      ],
      "text/plain": [
       "q1.4.4 results: All test cases passed!"
      ]
     },
     "execution_count": 662,
     "metadata": {},
     "output_type": "execute_result"
    }
   ],
   "source": [
    "grader.check(\"q1.4.4\")"
   ]
  },
  {
   "cell_type": "markdown",
   "id": "e7a61706-2fa5-47bf-a7a7-5fe87c90c06d",
   "metadata": {
    "deletable": false,
    "editable": false
   },
   "source": [
    "#### 1.4.5) Last column\n",
    "\n",
    "Write a procedure that takes a 2D array and returns the final column vector as a two-dimensional array. You may not use loops. Hint: negtaive indices are interpreted as counting from the end of an array.\n",
    "\n",
    "\n",
    "_Points:_ 0.5"
   ]
  },
  {
   "cell_type": "code",
   "execution_count": 663,
   "id": "3e149096-ce22-4a0b-aff6-7ac20aa799c1",
   "metadata": {
    "tags": [
     "otter_answer_cell"
    ]
   },
   "outputs": [],
   "source": [
    "def index_final_col_145(A):\n",
    "    return A[:, -1].reshape(-1, 1)"
   ]
  },
  {
   "cell_type": "code",
   "execution_count": 664,
   "id": "d08a5c1e",
   "metadata": {
    "deletable": false,
    "editable": false
   },
   "outputs": [
    {
     "data": {
      "text/html": [
       "<p><strong><pre style='display: inline;'>q1.4.5</pre></strong> passed! ✨</p>"
      ],
      "text/plain": [
       "q1.4.5 results: All test cases passed!"
      ]
     },
     "execution_count": 664,
     "metadata": {},
     "output_type": "execute_result"
    }
   ],
   "source": [
    "grader.check(\"q1.4.5\")"
   ]
  },
  {
   "cell_type": "markdown",
   "id": "171e5cc9-7ae2-47af-bbb4-f083b0313662",
   "metadata": {
    "deletable": false,
    "editable": false
   },
   "source": [
    "#### 1.4.6) Matrix inverse\n",
    "\n",
    "A scalar number $x$ has a inverse $x^{-1}$, such that $x^{-1}x$=1; that is, their product is 1. Similarly, a matrix $A$ may have a well-defined inverse $A^{-1}$, such that $A^{-1}A=I$, where matrix multiplication is used, and $I$ is the identity matrix. Such inverses generally only exist when A is a square matrix, and just as $0$ has no well-defined multiplicative inverse, there are also cases when matrices are \"singular\" and have no well-defined inverses.\n",
    "\n",
    "Write a procedure that takes a matrix $A$ and returns its inverse, $A^{-1}$. Assume that $A$ is well-formed, such that its inverse exists. Feel free to use routines from `np.linalg`.\n",
    "\n",
    "\n",
    "_Points:_ 0.5"
   ]
  },
  {
   "cell_type": "code",
   "execution_count": 665,
   "id": "c1c97f41-500d-451c-bcdf-23e40db906b0",
   "metadata": {
    "tags": [
     "otter_answer_cell"
    ]
   },
   "outputs": [],
   "source": [
    "def matrix_inverse_146(A):\n",
    "    return np.linalg.inv(A)"
   ]
  },
  {
   "cell_type": "code",
   "execution_count": 666,
   "id": "0bd6cd26",
   "metadata": {
    "deletable": false,
    "editable": false
   },
   "outputs": [
    {
     "data": {
      "text/html": [
       "<p><strong><pre style='display: inline;'>q1.4.6</pre></strong> passed! 💯</p>"
      ],
      "text/plain": [
       "q1.4.6 results: All test cases passed!"
      ]
     },
     "execution_count": 666,
     "metadata": {},
     "output_type": "execute_result"
    }
   ],
   "source": [
    "grader.check(\"q1.4.6\")"
   ]
  },
  {
   "cell_type": "markdown",
   "id": "6f2c17c0-bf4e-4866-8c7b-d8a72722c271",
   "metadata": {
    "deletable": false,
    "editable": false
   },
   "source": [
    "### 1.5) Working with Data in Numpy"
   ]
  },
  {
   "cell_type": "markdown",
   "id": "f6ceae48-7a8b-4d33-9dd8-29df91069c32",
   "metadata": {
    "deletable": false,
    "editable": false
   },
   "source": [
    "#### 1.5.1) Representing data\n",
    "\n",
    "We have collected weight and height data of 3 people, written down below:\n",
    "```\n",
    "Weight -- 150, 130, 120\n",
    "Height -- 5.8, 5.5, 5.3\n",
    "```\n",
    "We want to put this into a `numpy` array such that each _row_ represents one individual's weight and height (in that order), in the order of the individuals as listed. Write code to set `data` equal to the appropriate numpy array:\n",
    "\n",
    "\n",
    "_Points:_ 2"
   ]
  },
  {
   "cell_type": "code",
   "execution_count": 667,
   "id": "86781724-3278-4a18-9ec1-fb81c7178afd",
   "metadata": {
    "tags": [
     "otter_answer_cell"
    ]
   },
   "outputs": [],
   "source": [
    "data_151 = np.array([[150, 5.8],\n",
    "                     [130, 5.5],\n",
    "                     [120, 5.3]])"
   ]
  },
  {
   "cell_type": "code",
   "execution_count": 668,
   "id": "3651513b",
   "metadata": {
    "deletable": false,
    "editable": false
   },
   "outputs": [
    {
     "data": {
      "text/html": [
       "<p><strong><pre style='display: inline;'>q1.5.1</pre></strong> passed! 🚀</p>"
      ],
      "text/plain": [
       "q1.5.1 results: All test cases passed!"
      ]
     },
     "execution_count": 668,
     "metadata": {},
     "output_type": "execute_result"
    }
   ],
   "source": [
    "grader.check(\"q1.5.1\")"
   ]
  },
  {
   "cell_type": "markdown",
   "id": "ccc8250e-1fa7-4157-8ed4-c15e8034b197",
   "metadata": {
    "deletable": false,
    "editable": false
   },
   "source": [
    "#### 1.5.2) Matrix multiplication\n",
    "\n",
    "Now we want to compute, for each person, the sum of that person's height and weight, and return the results in a _column_ vector, with one entry per person. We do this by matrix multiplication using `data` and another `numpy` array. (Remember that column and row vectors are arrays and that, in ESE 577, we will _always_ represent these as two-dimensional arrays.) We have written the following incorrect code to do so and need your help to fix it:\n",
    "\n",
    "_Points:_ 2"
   ]
  },
  {
   "cell_type": "code",
   "execution_count": 669,
   "id": "4d9312a0-c0a6-4ed4-b57b-81034c2aa459",
   "metadata": {
    "tags": [
     "otter_answer_cell"
    ]
   },
   "outputs": [],
   "source": [
    "def transform_152(data):\n",
    "    return np.dot(np.array([1, 1]), data.T).reshape(-1, 1)\n"
   ]
  },
  {
   "cell_type": "code",
   "execution_count": 670,
   "id": "1d945526",
   "metadata": {
    "deletable": false,
    "editable": false
   },
   "outputs": [
    {
     "data": {
      "text/html": [
       "<p><strong><pre style='display: inline;'>q1.5.2</pre></strong> passed! 🎉</p>"
      ],
      "text/plain": [
       "q1.5.2 results: All test cases passed!"
      ]
     },
     "execution_count": 670,
     "metadata": {},
     "output_type": "execute_result"
    }
   ],
   "source": [
    "grader.check(\"q1.5.2\")"
   ]
  },
  {
   "cell_type": "markdown",
   "id": "f35b38ae-9fe0-44ff-8597-25c1d0e0ad5f",
   "metadata": {},
   "source": [
    "## 2) Beginning linear regression (20 pts)\n",
    "\n",
    "We are beginning our study of machine learning with linear regression which is a fundamental problem in supervised learning. \n",
    "\n",
    "A hypothesis in linear regression has the form $$y = \\theta^\\top x + \\theta_0 \\enspace,$$ where $x$ is a $d\\times 1$ input vector, $y$ is a scalar output prediction, $\\theta$ is a $d\\times1$ parameter vector, and $\\theta_0$ is a scalar offset parameter.\n",
    "\n",
    "This week, we will write the closed-form solution to a linear regression problem. "
   ]
  },
  {
   "cell_type": "markdown",
   "id": "d68c8183-f548-44ea-9049-5492713336b8",
   "metadata": {
    "deletable": false,
    "editable": false
   },
   "source": [
    "### 2.1) Warm-up\n",
    "\n",
    "Here is a data-set for a regression problem, with $d=1$ and $n=5$: $$\\mathcal{D} = ([1], 2), ([2], 1), ([3], 4), ([4], 3), ([5], 5)\\enspace.$$ \n",
    "\n",
    "Recall that $\\mathcal{D}$ is a set of $(x, y)$ (input, output) pairs.\n",
    "\n",
    "Consider a hypothesis $\\theta=1, \\theta_0=1$. Let our objective be the mean square error (MSE): $$J(\\theta, \\theta_0; \\mathcal{D} = \\frac{1}{n}\\sum_{i=1}^n (\\theta x^{(i)} \\theta_0 - y^{(i)})^2\\enspace.$$\n",
    "\n",
    "What is the scalar numeric value of $J(\\theta, \\theta_0; \\mathcal{D})$? Feel free to compute the value manually and enter the answer below, or write an arithmetic expression to compute the value for you:\n",
    "\n",
    "_Points:_ 4"
   ]
  },
  {
   "cell_type": "code",
   "execution_count": 671,
   "id": "f5403d24-d1f3-44db-bac4-393a429ceb95",
   "metadata": {
    "tags": [
     "otter_answer_cell"
    ]
   },
   "outputs": [],
   "source": [
    "J_21 = 1.8"
   ]
  },
  {
   "cell_type": "code",
   "execution_count": 672,
   "id": "4528338d",
   "metadata": {
    "deletable": false,
    "editable": false
   },
   "outputs": [
    {
     "data": {
      "text/html": [
       "<p><strong><pre style='display: inline;'>q2.1</pre></strong> passed! 🙌</p>"
      ],
      "text/plain": [
       "q2.1 results: All test cases passed!"
      ]
     },
     "execution_count": 672,
     "metadata": {},
     "output_type": "execute_result"
    }
   ],
   "source": [
    "grader.check(\"q2.1\")"
   ]
  },
  {
   "cell_type": "markdown",
   "id": "c4bbbebe-8660-4898-89de-5dd3f2c3e71a",
   "metadata": {
    "deletable": false,
    "editable": false
   },
   "source": [
    "### 2.2) Linear prediction\n",
    "\n",
    "Assume we are given an input $x$ as a _column_ vector and the parameters specifying a linear hypothesis. Let's compute a predicted value.\n",
    "\n",
    "Write a Python function which is given:\n",
    "- `x`: input vector $d\\times1$\n",
    "- `th`: parameter vector $d\\times1$\n",
    "- `th0`: offset parameter $1\\times1$ or scalar\n",
    "\n",
    "and returns:\n",
    "- `y` vector as a $1\\times1$ array predicted for input `x` by hypothesis `th`, `th0`\n",
    "\n",
    "\n",
    "_Points:_ 4"
   ]
  },
  {
   "cell_type": "code",
   "execution_count": 673,
   "id": "7cd10285-2001-4a74-a664-7c41abd8ac6b",
   "metadata": {
    "tags": [
     "otter_answer_cell"
    ]
   },
   "outputs": [],
   "source": [
    "def lin_reg_predict_single_22(x, th, th0):\n",
    "    return th.T @ x + th0"
   ]
  },
  {
   "cell_type": "code",
   "execution_count": 674,
   "id": "2c929165",
   "metadata": {
    "deletable": false,
    "editable": false
   },
   "outputs": [
    {
     "data": {
      "text/html": [
       "<p><strong><pre style='display: inline;'>q2.2</pre></strong> passed! 🚀</p>"
      ],
      "text/plain": [
       "q2.2 results: All test cases passed!"
      ]
     },
     "execution_count": 674,
     "metadata": {},
     "output_type": "execute_result"
    }
   ],
   "source": [
    "grader.check(\"q2.2\")"
   ]
  },
  {
   "cell_type": "markdown",
   "id": "117f2c65-8c69-4151-871c-da52f475f578",
   "metadata": {
    "deletable": false,
    "editable": false
   },
   "source": [
    "### 2.3) Lots of data\n",
    "\n",
    "Now assume we are given $n$ points in an array. Let's compute predictions for all of the points.\n",
    "\n",
    "Write a Python function which is given:\n",
    "- `X`: input array $n\\times d$\n",
    "- `th`: parameter vector $d\\times1$\n",
    "- `th0`: offset parameters $1\\times1$ or scalar\n",
    "\n",
    "and returns:\n",
    "- a $n\\times1$ vector `y` of predicted values, one for each row of `X` for hypothesis `th`, `th0`.\n",
    "\n",
    "_Hint: note that each row of `X` would be the transposed of column vector `x` from the previous question (`x.T`). How would that change the expression needed to obtain predictions? Think about the matrix shapes required for valid matrix products._\n",
    "\n",
    "_Points:_ 4"
   ]
  },
  {
   "cell_type": "code",
   "execution_count": 675,
   "id": "792ab1e9-c8cf-429f-a7ea-99b196162cf5",
   "metadata": {
    "tags": [
     "otter_answer_cell"
    ]
   },
   "outputs": [],
   "source": [
    "def lin_reg_predict_23(X, th, th0):\n",
    "    return X @ th + th0"
   ]
  },
  {
   "cell_type": "code",
   "execution_count": 676,
   "id": "85d81bf0",
   "metadata": {
    "deletable": false,
    "editable": false
   },
   "outputs": [
    {
     "data": {
      "text/html": [
       "<p><strong><pre style='display: inline;'>q2.3</pre></strong> passed! 🍀</p>"
      ],
      "text/plain": [
       "q2.3 results: All test cases passed!"
      ]
     },
     "execution_count": 676,
     "metadata": {},
     "output_type": "execute_result"
    }
   ],
   "source": [
    "grader.check(\"q2.3\")"
   ]
  },
  {
   "cell_type": "markdown",
   "id": "fbcbf4fc-7ee0-439b-af71-29ec5791601a",
   "metadata": {
    "deletable": false,
    "editable": false
   },
   "source": [
    "### 2.4) Mean squared error\n",
    "\n",
    "Given two $n\\times1$ vectors of output values `Y` and `Y_hat`, compute a $1\\times1$  mean squared error.\n",
    "- Read about [`np.mean`](https://docs.scipy.org/doc/numpy/reference/generated/numpy.mean.html)\n",
    "\n",
    "Write a Python function which is given:\n",
    "- `Y`: vector of actual output values $n\\times1$\n",
    "- `Y_hat`: vector of predicted output values $n\\times 1$\n",
    "\n",
    "and returns:\n",
    "- a $1\\times 1$ array with the mean square error\n",
    "\n",
    "_Points:_ 4"
   ]
  },
  {
   "cell_type": "code",
   "execution_count": 677,
   "id": "117e1b6e-a5ee-4a11-aa46-51ed32b26909",
   "metadata": {
    "tags": [
     "otter_answer_cell"
    ]
   },
   "outputs": [],
   "source": [
    "def mse_24(Y, Y_hat):\n",
    "    return np.mean((Y - Y_hat) ** 2, keepdims=True)"
   ]
  },
  {
   "cell_type": "code",
   "execution_count": 678,
   "id": "87b1809e",
   "metadata": {
    "deletable": false,
    "editable": false
   },
   "outputs": [
    {
     "data": {
      "text/html": [
       "<p><strong><pre style='display: inline;'>q2.4</pre></strong> passed! 🌈</p>"
      ],
      "text/plain": [
       "q2.4 results: All test cases passed!"
      ]
     },
     "execution_count": 678,
     "metadata": {},
     "output_type": "execute_result"
    }
   ],
   "source": [
    "grader.check(\"q2.4\")"
   ]
  },
  {
   "cell_type": "markdown",
   "id": "5e2883ff-8f61-468c-b411-2c500650b9c9",
   "metadata": {
    "deletable": false,
    "editable": false
   },
   "source": [
    "### 2.5) Linear prediction error\n",
    "\n",
    "Use the `mse` and `lin_reg_predict` procedures to implement a procedure that takes:\n",
    "- `X`: $n\\times d$ input array representing $n$ points in $d$ dimensions\n",
    "- `Y`: $n\\times 1$ output vector representing output values for $n$ points\n",
    "- `th`: parameter vector $d\\times 1$\n",
    "- `th0`: offset $1\\times 1$ (or scalar)\n",
    "\n",
    "and returns\n",
    "- $1\\times1$ value representing the MSE of hypothesis `th`, `th0` on the dataset `X`, `Y`.\n",
    "\n",
    "\n",
    "_Points:_ 4"
   ]
  },
  {
   "cell_type": "code",
   "execution_count": 679,
   "id": "29d98372-0994-46e9-ab61-63da329e46b3",
   "metadata": {
    "tags": [
     "otter_answer_cell"
    ]
   },
   "outputs": [],
   "source": [
    "def lin_reg_err_25(X, Y, th, th0):\n",
    "    Y_hat = lin_reg_predict_23(X, th, th0)\n",
    "    return mse_24(Y, Y_hat)"
   ]
  },
  {
   "cell_type": "code",
   "execution_count": 680,
   "id": "ac221d6e",
   "metadata": {
    "deletable": false,
    "editable": false
   },
   "outputs": [
    {
     "data": {
      "text/html": [
       "<p><strong><pre style='display: inline;'>q2.5</pre></strong> passed! 🍀</p>"
      ],
      "text/plain": [
       "q2.5 results: All test cases passed!"
      ]
     },
     "execution_count": 680,
     "metadata": {},
     "output_type": "execute_result"
    }
   ],
   "source": [
    "grader.check(\"q2.5\")"
   ]
  },
  {
   "cell_type": "markdown",
   "id": "9c15f3dd-d866-4bfa-bca4-5e122627ed42",
   "metadata": {},
   "source": [
    "## 3) A taste of regularization (20 pts)\n",
    "\n",
    "You are given the following data, where $d=1$, $n=4$: $$\\mathcal{D}=\\{([1], 2), ([2], 7), ([3], -3), ([4], 1)\\}\\enspace.$$ You want to use analytic linear regression to solve the problem. "
   ]
  },
  {
   "cell_type": "markdown",
   "id": "09d6e1a6-c7cb-43a4-b731-240b52d7780f",
   "metadata": {
    "deletable": false,
    "editable": false
   },
   "source": [
    "### 3.1)\n",
    "What is the $X$ matrix? Remember to include an extra input dimension that always has the value 1.\n",
    "\n",
    "Provide a `np.array` where each data point is a row. \n",
    "\n",
    "_Points:_ 2"
   ]
  },
  {
   "cell_type": "code",
   "execution_count": 681,
   "id": "220fc5ce-376d-42b7-8cce-71a331c04db9",
   "metadata": {
    "tags": [
     "otter_answer_cell"
    ]
   },
   "outputs": [],
   "source": [
    "X_31 = np.array([[1, 1], [2, 1], [3, 1], [4, 1]])"
   ]
  },
  {
   "cell_type": "code",
   "execution_count": 682,
   "id": "87db6c72",
   "metadata": {
    "deletable": false,
    "editable": false
   },
   "outputs": [
    {
     "data": {
      "text/html": [
       "<p><strong><pre style='display: inline;'>q3.1</pre></strong> passed! 🍀</p>"
      ],
      "text/plain": [
       "q3.1 results: All test cases passed!"
      ]
     },
     "execution_count": 682,
     "metadata": {},
     "output_type": "execute_result"
    }
   ],
   "source": [
    "grader.check(\"q3.1\")"
   ]
  },
  {
   "cell_type": "markdown",
   "id": "dab02691-3c37-4baa-bd89-2df4575542dc",
   "metadata": {
    "deletable": false,
    "editable": false
   },
   "source": [
    "### 3.2)\n",
    "\n",
    "What is the $Y$ vector? Provide a `np.array()` where each label is a row.\n",
    "\n",
    "\n",
    "_Points:_ 2"
   ]
  },
  {
   "cell_type": "code",
   "execution_count": 683,
   "id": "766d79be-fbfa-4beb-aa16-85507dbcb308",
   "metadata": {
    "tags": [
     "otter_answer_cell"
    ]
   },
   "outputs": [],
   "source": [
    "Y_32 = np.array([[2], [7], [-3], [1]])"
   ]
  },
  {
   "cell_type": "code",
   "execution_count": 684,
   "id": "98a5672b",
   "metadata": {
    "deletable": false,
    "editable": false
   },
   "outputs": [
    {
     "data": {
      "text/html": [
       "<p><strong><pre style='display: inline;'>q3.2</pre></strong> passed! 🎉</p>"
      ],
      "text/plain": [
       "q3.2 results: All test cases passed!"
      ]
     },
     "execution_count": 684,
     "metadata": {},
     "output_type": "execute_result"
    }
   ],
   "source": [
    "grader.check(\"q3.2\")"
   ]
  },
  {
   "cell_type": "markdown",
   "id": "abd834dd-8b0a-4304-b728-9cbd12b134fd",
   "metadata": {
    "deletable": false,
    "editable": false
   },
   "source": [
    "### 3.3)\n",
    "\n",
    "Write code to compute the $\\theta$, $\\theta_0$ that minimize the MSE on this data. Provide the answer as two `np.array`s, `th` and `th0`. The shape of `th` should be $d\\times1$ and the shape of `th0` should be $1\\times1$.\n",
    "\n",
    "_Hint: you can use [`np.linalg.inv`](https://numpy.org/doc/stable/reference/generated/numpy.linalg.inv.html) to compute a matrix inverse necessary for the closed-form analytical expression of $\\theta$. Note that the expression we studied in class provides a single vector that contains both $\\theta$ and $\\theta_0$. Use slicing and/or indexing given this answer to obtain the two separate vectors._\n",
    "\n",
    "_Points:_ 6"
   ]
  },
  {
   "cell_type": "code",
   "execution_count": 685,
   "id": "d1b3ed3a-93c2-4489-b0a9-549edaf14bed",
   "metadata": {
    "tags": [
     "otter_answer_cell"
    ]
   },
   "outputs": [],
   "source": [
    "theta_both = np.linalg.inv(X_31.T @ X_31) @ X_31.T @ Y_32\n",
    "th_33 = theta_both[0].reshape(-1, 1)\n",
    "th0_33 = theta_both[1].reshape(1, -1)"
   ]
  },
  {
   "cell_type": "code",
   "execution_count": 686,
   "id": "cd3df00b",
   "metadata": {
    "deletable": false,
    "editable": false
   },
   "outputs": [
    {
     "data": {
      "text/html": [
       "<p><strong><pre style='display: inline;'>q3.3</pre></strong> passed! 🌟</p>"
      ],
      "text/plain": [
       "q3.3 results: All test cases passed!"
      ]
     },
     "execution_count": 686,
     "metadata": {},
     "output_type": "execute_result"
    }
   ],
   "source": [
    "grader.check(\"q3.3\")"
   ]
  },
  {
   "cell_type": "markdown",
   "id": "8a59f1d0-d9a3-438c-8c86-570f26e5d082",
   "metadata": {
    "deletable": false,
    "editable": false
   },
   "source": [
    "### 3.4)\n",
    "\n",
    "What is the MSE of the hypothesis you found on the data (any answer within $\\pm10\\%$ of the exact MSE will be accepted)? Express your answer as a $1\\times1$ `np.array`.\n",
    "\n",
    "\n",
    "_Points:_ 3"
   ]
  },
  {
   "cell_type": "code",
   "execution_count": 687,
   "id": "4a7ba0e9-eb46-4b98-83a0-379e69f5c411",
   "metadata": {
    "tags": [
     "otter_answer_cell"
    ]
   },
   "outputs": [],
   "source": [
    "MSE_34 = (X_31 @  theta_both - Y_32).T @ (X_31 @ theta_both - Y_32) / X_31.shape[0]"
   ]
  },
  {
   "cell_type": "code",
   "execution_count": 688,
   "id": "66674362",
   "metadata": {
    "deletable": false,
    "editable": false
   },
   "outputs": [
    {
     "data": {
      "text/html": [
       "<p><strong><pre style='display: inline;'>q3.4</pre></strong> passed! ✨</p>"
      ],
      "text/plain": [
       "q3.4 results: All test cases passed!"
      ]
     },
     "execution_count": 688,
     "metadata": {},
     "output_type": "execute_result"
    }
   ],
   "source": [
    "grader.check(\"q3.4\")"
   ]
  },
  {
   "cell_type": "markdown",
   "id": "3c90e228-2949-4416-aef3-6fd66143c06e",
   "metadata": {
    "deletable": false,
    "editable": false
   },
   "source": [
    "### 3.5)\n",
    "\n",
    "In this problem, we explore how linear regression models can overfit to noise and the importance of regularization in mitigating overfitting. For example, if we change the data to have two added noise dimensions such that: $$\\mathcal{D}_{\\mathrm{train}} = \\{([1, \\epsilon, \\epsilon], 2), ([2, \\epsilon, \\epsilon], 7), ([3, \\epsilon, \\epsilon], -3), ([4, \\epsilon, \\epsilon], 1)\\}\\enspace,$$ where the $\\epsilon$ values are all potentially different, randomly chosen independently in the range $(-1\\times 10^{-5}, 1\\times 10^{-5})$.\n",
    "\n",
    "We are able to run the analytical regression on this problem, and arrive at a hypothesis with the following parameters: $$\\theta = \\begin{bmatrix} 4.70697 \\times 10^{0} \\\\ -1.28107 \\times 10^{6} \\\\ 1.10581 \\times 10^{7}\\end{bmatrix}, \\theta_0 = -1.03437 \\times 10^2\\enspace.$$\n",
    "\n",
    "This hypothesis has the following MSE on the training data: $1.6970 \\times 10^{-24}$.\n",
    "\n",
    "Consider a \"testing\" set, which is _very_ similar to the training set:\n",
    "\n",
    "$\\mathcal{D}_{\\mathrm{test}} = \\{([1, 0, 0], 2), ([2, 0, 0], 7), ([3, 0, 0], -3), ([4, 0, 0], 1)\\}$.\n",
    "\n",
    "What's the MSE of the given `th`, `th0` on the testing set? (any answer within $\\pm 10\\%$ of the exact MSE will be accepted). Express your answer as a $1\\times1$ numpy array.\n",
    "\n",
    "\n",
    "_Points:_ 3"
   ]
  },
  {
   "cell_type": "code",
   "execution_count": 689,
   "id": "05b6df59-116c-4473-b651-2683e06a81af",
   "metadata": {
    "tags": [
     "otter_answer_cell"
    ]
   },
   "outputs": [],
   "source": [
    "theta_35 = np.array([4.70697, -1.28107e6, 1.10581e7, -1.03437e2]).reshape(-1, 1)\n",
    "X_35 = np.array([[1, 0, 0, 1],\n",
    "              [2, 0, 0, 1],\n",
    "              [3, 0, 0, 1],\n",
    "              [4, 0, 0, 1]])\n",
    "Y_35 = np.array([[2], [7], [-3], [1]])\n",
    "MSE_35 = np.mean((Y_35 - X_35 @ theta_35) ** 2, keepdims=True)"
   ]
  },
  {
   "cell_type": "code",
   "execution_count": 690,
   "id": "e99eb42e",
   "metadata": {
    "deletable": false,
    "editable": false
   },
   "outputs": [
    {
     "data": {
      "text/html": [
       "<p><strong><pre style='display: inline;'>q3.5</pre></strong> passed! ✨</p>"
      ],
      "text/plain": [
       "q3.5 results: All test cases passed!"
      ]
     },
     "execution_count": 690,
     "metadata": {},
     "output_type": "execute_result"
    }
   ],
   "source": [
    "grader.check(\"q3.5\")"
   ]
  },
  {
   "cell_type": "markdown",
   "id": "fc415116-da13-4a46-9b4f-1c9c646d1e3f",
   "metadata": {
    "deletable": false,
    "editable": false
   },
   "source": [
    "### 3.6)\n",
    "\n",
    "Now we will look at the effect of adding a regularizer. Using the same data as in the previous question (with two added noise dimensions) but using ridge regression with $\\lambda=1\\times 10^{-10}$.\n",
    "\n",
    "We get the following parameters: $$\\theta = \\begin{bmatrix} -1.377711\\times 10^{0} \\\\ -2.574581 \\times 10^{5} \\\\ -5.070563 \\times 10^{4} \\end{bmatrix}, \\theta_0 = 7.260269 \\times 10^{0}\\enspace.$$\n",
    "\n",
    "Does this hypothesis have higher or lower training set MSE than the result without ridge regression? (Note that we didn't specify the exact noise values; but you should be able to deduce the answer to this question without explicitly calculating the training error.)\n",
    "\n",
    "\n",
    "_Points:_ 2"
   ]
  },
  {
   "cell_type": "code",
   "execution_count": 691,
   "id": "5c95b11b-e6da-443f-ba2b-265ae911222b",
   "metadata": {
    "tags": [
     "otter_answer_cell"
    ]
   },
   "outputs": [],
   "source": [
    "# set ans_36 = \"lower\" for lower and ans_36 = \"higher\" for higher\n",
    "ans_36 = \"higher\""
   ]
  },
  {
   "cell_type": "markdown",
   "id": "445b78fe-f463-4dff-9353-7da84fbc1331",
   "metadata": {
    "deletable": false,
    "editable": false
   },
   "source": [
    "### 3.7) How does the magnitude of model parameters change after applying regularization, such as ridge regression, compared to before regularization? \n",
    "\n",
    "a) The magnitude of parameters is higher before adding a regularizer\n",
    "\n",
    "b) The magnitude of parameters is lower before adding a regularizer\n",
    "\n",
    "\n",
    "\n",
    "_Points:_ 2"
   ]
  },
  {
   "cell_type": "code",
   "execution_count": 692,
   "id": "1a367868-5eab-4e33-b18e-bd9d0343a4d4",
   "metadata": {
    "tags": [
     "otter_answer_cell"
    ]
   },
   "outputs": [],
   "source": [
    "# set ans = \"a\" for a) and ans = \"b\" for b)\n",
    "ans_37 = \"a\""
   ]
  },
  {
   "cell_type": "markdown",
   "id": "be2319df-cfaf-45df-bda2-d6a209048223",
   "metadata": {},
   "source": [
    "## 4) Buy 'n' Large (20 pts)\n",
    "\n",
    "We have been hired by Buy 'n' Large to deliver a predictor of change in sales volume from last year, for each of their stores. We have a machine-learning algorithm that can be used with regularization parameter $\\lambda$. Our overall objective is to deliver a predictor that minimizes squared loss on predictions when actually used by the company. There are three relevant data sets: training dataset $\\mathcal{D}_{\\mathrm{train}}$, validation dataset $\\mathcal{D}_{\\mathrm{val}}$, and test dataset $\\mathcal{D}_{\\mathrm{test}}$, each of size $n$. You have $\\mathcal{D}_{\\mathrm{train}}$ and $\\mathcal{D}_{\\mathrm{val}}$, and $\\mathcal{D}_{\\mathrm{test}}$ is owned by the company and not shared with you.\n",
    "\n",
    "We will use a linear predictor with parameters $\\theta$ (without the offset parameter $\\theta_0$ for simplicity) and use regularizer $\\lambda\\|\\theta\\|^2$. There are several phases of the training process:\n",
    "1. First, we find the optimal hypothesis for any hyperparameter.\n",
    "2. Then, we find the optimal hyperparameter.\n",
    "3. Then, we find the best hypothesis to send to Buy 'n' Large.\n",
    "4. Lastly, Buy 'n' Large evaluates the hypothesis we have sent to them.\n",
    "\n",
    "For each of these phases, we need to select the appropriate objective for each of those tasks. Each question provides the template of an answer, and asks you to fill in choices for different \"slots\" in the template that specify:\n",
    "- $A$- what the minimization is over,\n",
    "- $B$ - the dataset used,\n",
    "- $C$ - the predictor used, and\n",
    "- $D$ -whether regularization is added.\n",
    "\n",
    "Fill in the slots ($A, B, C, D$) for each phase by choosing the expressions for the indicated slots.\n",
    "\n",
    "Note that $\\theta$ and $\\lambda$ are variables that range over $d$-dimensional column vectors and positive reals, respectively. $\\theta_\\mathrm{best}(\\lambda)$ is a value of $\\theta$ that is a function of $\\lambda$. $\\theta^{*}, \\lambda^{*}$ are specific values found as described below.\n",
    "\n",
    "### 4.1) Training (5 pts)\n",
    "\n",
    "Selecting the best hypothesis (parameters $\\theta$) for some fixed value of the regularization parameter $\\lambda$. Call this $\\theta_\\mathrm{best}(\\lambda)$. $$\\theta_\\mathrm{best} = \\arg \\min_{A} \\frac{1}{|B|}\\sum_{(x, y)\\in B} (C^\\top x - y) ^2 / 2 + D\\enspace.$$\n",
    "\n"
   ]
  },
  {
   "cell_type": "markdown",
   "id": "56548229-caa8-4306-9868-59f8128a44cf",
   "metadata": {
    "deletable": false,
    "editable": false
   },
   "source": [
    "#### 4.1.1)\n",
    "\n",
    "What should we minimize over? This is denoted by the variable $A$.\n",
    "\n",
    "a) $\\theta$\n",
    "\n",
    "b) $\\theta_{\\mathrm{best}}(\\lambda)$\n",
    "\n",
    "c) $\\theta^{*}$\n",
    "\n",
    "\n",
    "_Points:_ 1.25"
   ]
  },
  {
   "cell_type": "code",
   "execution_count": 693,
   "id": "4b9929cf-43dd-4077-bf0a-a61848d3feab",
   "metadata": {
    "tags": [
     "otter_answer_cell"
    ]
   },
   "outputs": [],
   "source": [
    "# set ans = \"a\" for a), ans = \"b\" for b), and ans = \"c\" for c)\n",
    "ans_411 = \"a\""
   ]
  },
  {
   "cell_type": "markdown",
   "id": "641a340f-3c6e-41f2-9f3f-dd3f030239ac",
   "metadata": {
    "deletable": false,
    "editable": false
   },
   "source": [
    "#### 4.1.2)\n",
    "\n",
    "What dataset should we use? This is denoted by the variable $B$.\n",
    "\n",
    "a) $\\mathcal{D}_{\\mathrm{train}}$\n",
    "\n",
    "b) $\\mathcal{D}_{\\mathrm{val}}$\n",
    "\n",
    "c) $\\mathcal{D}_{\\mathrm{train}} \\cup \\mathcal{D}_{\\mathrm{val}}$\n",
    "\n",
    "d) $\\mathcal{D}_{\\mathrm{test}}$\n",
    "\n",
    "\n",
    "_Points:_ 1.25"
   ]
  },
  {
   "cell_type": "code",
   "execution_count": 694,
   "id": "1fda342a-f7fe-4d5e-88a2-2d4a6b6907ae",
   "metadata": {
    "tags": [
     "otter_answer_cell"
    ]
   },
   "outputs": [],
   "source": [
    "# set ans = \"a\" for a), ans = \"b\" for b), ans = \"c\" for c), and ans = \"d\" for d)\n",
    "ans_412 = \"a\""
   ]
  },
  {
   "cell_type": "markdown",
   "id": "218d9709-3041-489c-b023-951a0919a814",
   "metadata": {
    "deletable": false,
    "editable": false
   },
   "source": [
    "#### 4.1.3)\n",
    "\n",
    "What predictor should we use? This is denoted by the variable $C$.\n",
    "\n",
    "a) $\\theta$\n",
    "\n",
    "b) $\\theta_{\\mathrm{best}}(\\lambda)$\n",
    "\n",
    "c) $\\theta^{*}$\n",
    "\n",
    "\n",
    "_Points:_ 1.25"
   ]
  },
  {
   "cell_type": "code",
   "execution_count": 695,
   "id": "f13ca5b2-6f5a-4e06-a652-467b7680cacf",
   "metadata": {
    "tags": [
     "otter_answer_cell"
    ]
   },
   "outputs": [],
   "source": [
    "# set ans = \"a\" for a), ans = \"b\" for b), and ans = \"c\" for c)\n",
    "ans_413 = \"a\""
   ]
  },
  {
   "cell_type": "markdown",
   "id": "63100bc6-b783-42e6-98e9-6bdd7a62663b",
   "metadata": {
    "deletable": false,
    "editable": false
   },
   "source": [
    "#### 4.1.4)\n",
    "\n",
    "What regularizer should we use? This is denoted by the variable $D$.\n",
    "\n",
    "a) 0\n",
    "\n",
    "b) $\\lambda$\n",
    "\n",
    "c) $\\lambda\\|\\theta\\|^2$\n",
    "\n",
    "\n",
    "_Points:_ 1.25"
   ]
  },
  {
   "cell_type": "code",
   "execution_count": 696,
   "id": "bc01ed2a-f661-4c30-8140-841f1d2c29ed",
   "metadata": {
    "tags": [
     "otter_answer_cell"
    ]
   },
   "outputs": [],
   "source": [
    "# set ans = \"a\" for a), ans = \"b\" for b), and ans = \"c\" for c)\n",
    "ans_414 = \"c\""
   ]
  },
  {
   "cell_type": "markdown",
   "id": "92e82d59-9f18-49c3-9df6-943657efbb44",
   "metadata": {},
   "source": [
    "### 4.2) Hyperparameter selection (5 pts)\n",
    "\n",
    "Selecting the best value of the regularization hyperparameter $\\lambda$. We will call this best value $\\lambda^*$. $$\\lambda^* = \\arg \\min_{A} \\frac{1}{|B|} \\sum_{(x, y) \\in B} (C^\\top x - y) ^2 /2 + D\\enspace.$$\n",
    "\n"
   ]
  },
  {
   "cell_type": "markdown",
   "id": "7c133c98-a4cf-4f97-8bed-b1484330910e",
   "metadata": {
    "deletable": false,
    "editable": false
   },
   "source": [
    "#### 4.2.1)\n",
    "\n",
    "What should we minimize over? This is denoted by the variable $A$.\n",
    "\n",
    "a) $\\lambda$\n",
    "\n",
    "b) $\\lambda^*$\n",
    "\n",
    "c) $\\lambda\\|\\theta\\|^2$\n",
    "\n",
    "d) $\\lambda^*\\|\\theta\\|^2$\n",
    "\n",
    "\n",
    "_Points:_ 1.25"
   ]
  },
  {
   "cell_type": "code",
   "execution_count": 697,
   "id": "ff898faf-550e-4457-ac79-6879df590fa1",
   "metadata": {
    "tags": [
     "otter_answer_cell"
    ]
   },
   "outputs": [],
   "source": [
    "# set ans = \"a\" for a), ans = \"b\" for b), ans = \"c\" for c), and ans = \"d\" for d)\n",
    "ans_421 = \"a\""
   ]
  },
  {
   "cell_type": "markdown",
   "id": "694bd4a7-f27c-4e0a-beec-c52e9867d7a1",
   "metadata": {
    "deletable": false,
    "editable": false
   },
   "source": [
    "#### 4.2.2)\n",
    "\n",
    "What dataset should we use? This is denoted by the variable $B$.\n",
    "\n",
    "a) $\\mathcal{D}_{\\mathrm{train}}$\n",
    "\n",
    "b) $\\mathcal{D}_{\\mathrm{val}}$\n",
    "\n",
    "c) $\\mathcal{D}_{\\mathrm{train}} \\cup \\mathcal{D}_{\\mathrm{val}}$\n",
    "\n",
    "d) $\\mathcal{D}_{\\mathrm{test}}$\n",
    "\n",
    "\n",
    "\n",
    "_Points:_ 1.25"
   ]
  },
  {
   "cell_type": "code",
   "execution_count": 698,
   "id": "003b8c7b-892e-4b2d-9ca9-c8183ebea2c1",
   "metadata": {
    "tags": [
     "otter_answer_cell"
    ]
   },
   "outputs": [],
   "source": [
    "# set ans = \"a\" for a), ans = \"b\" for b), ans = \"c\" for c), and ans = \"d\" for d)\n",
    "ans_422 = \"b\""
   ]
  },
  {
   "cell_type": "markdown",
   "id": "c66f331a-a9ce-4ec7-83b4-05ebc19554b0",
   "metadata": {
    "deletable": false,
    "editable": false
   },
   "source": [
    "#### 4.2.3)\n",
    "\n",
    "What predictor should we use? This is denoted by the variable $C$.\n",
    "\n",
    "a) $\\theta$\n",
    "\n",
    "b) $\\theta_{\\mathrm{best}}(\\lambda)$\n",
    "\n",
    "c) $\\theta^{*}$\n",
    "\n",
    "\n",
    "\n",
    "_Points:_ 1.25"
   ]
  },
  {
   "cell_type": "code",
   "execution_count": 699,
   "id": "b7b204d4-54b2-4bd1-91d1-ef49b6dcf5c8",
   "metadata": {
    "tags": [
     "otter_answer_cell"
    ]
   },
   "outputs": [],
   "source": [
    "# set ans = \"a\" for a), ans = \"b\" for b), and ans = \"c\" for c)\n",
    "ans_423 = \"b\""
   ]
  },
  {
   "cell_type": "markdown",
   "id": "58d522f8-55a6-43aa-9d8d-57804e3d6796",
   "metadata": {
    "deletable": false,
    "editable": false
   },
   "source": [
    "#### 4.2.4)\n",
    "\n",
    "What regularizer should we use? This is denoted by the variable $D$.\n",
    "\n",
    "a) 0\n",
    "\n",
    "b) $\\lambda$\n",
    "\n",
    "c) $\\lambda^*$\n",
    "\n",
    "d) $\\lambda\\|\\theta\\|^2$\n",
    "\n",
    "e) $\\lambda^*\\|\\theta\\|^2$\n",
    "\n",
    "\n",
    "\n",
    "_Points:_ 1.25"
   ]
  },
  {
   "cell_type": "code",
   "execution_count": 700,
   "id": "33fa0c81-1a38-487a-a0a5-dafb751b08b1",
   "metadata": {
    "tags": [
     "otter_answer_cell"
    ]
   },
   "outputs": [],
   "source": [
    "# set ans = \"a\" for a), ans = \"b\" for b), ans = \"c\" for c), ans = \"d\" for d), and ans = \"e\" for e)\n",
    "ans_424 = \"a\""
   ]
  },
  {
   "cell_type": "markdown",
   "id": "2babc4dd-69df-4aba-a32b-4725687acb74",
   "metadata": {},
   "source": [
    "### 4.3) Shipping a predictor (5 pts)\n",
    "\n",
    "Selecting the hypothesis (parameters $\\theta$) to deliver to the company. Call this $\\theta^*$. $$\\theta^* = \\arg\\min_{A}\\frac{1}{B}\\sum_{(x,y)\\in B} (C^\\top x-y)^2 /2 + D\\enspace.$$\n"
   ]
  },
  {
   "cell_type": "markdown",
   "id": "f8573173-6a7f-4355-93de-537e37d09e44",
   "metadata": {
    "deletable": false,
    "editable": false
   },
   "source": [
    "#### 4.3.1)\n",
    "\n",
    "What should we minimize over? This is denoted by the variable $A$.\n",
    "\n",
    "a) $\\theta$\n",
    "\n",
    "b) $\\theta_{\\mathrm{best}}(\\lambda)$\n",
    "\n",
    "c) $\\theta^*$\n",
    "\n",
    "\n",
    "\n",
    "_Points:_ 1.25"
   ]
  },
  {
   "cell_type": "code",
   "execution_count": 701,
   "id": "2ea3585e-57d0-414c-a89a-248695df1b1b",
   "metadata": {
    "tags": [
     "otter_answer_cell"
    ]
   },
   "outputs": [],
   "source": [
    "# set ans = \"a\" for a), ans = \"b\" for b), ans = \"c\" for c), and ans = \"d\" for d)\n",
    "ans_431 = \"a\""
   ]
  },
  {
   "cell_type": "markdown",
   "id": "efb45da3-5a33-4238-9877-2bb88900a13d",
   "metadata": {
    "deletable": false,
    "editable": false
   },
   "source": [
    "#### 4.3.2)\n",
    "\n",
    "What dataset should we use? This is denoted by the variable $B$.\n",
    "\n",
    "a) $\\mathcal{D}_{\\mathrm{train}}$\n",
    "\n",
    "b) $\\mathcal{D}_{\\mathrm{val}}$\n",
    "\n",
    "c) $\\mathcal{D}_{\\mathrm{train}} \\cup \\mathcal{D}_{\\mathrm{val}}$\n",
    "\n",
    "d) $\\mathcal{D}_{\\mathrm{test}}$\n",
    "\n"
   ]
  },
  {
   "cell_type": "code",
   "execution_count": 702,
   "id": "96ad900f-cb11-4794-968b-441c3f4ed024",
   "metadata": {
    "tags": [
     "otter_answer_cell"
    ]
   },
   "outputs": [],
   "source": [
    "# set ans = \"a\" for a), ans = \"b\" for b), ans = \"c\" for c), and ans = \"d\" for d)\n",
    "ans_432 = \"c\""
   ]
  },
  {
   "cell_type": "markdown",
   "id": "0dce67fe-8f75-4976-8248-9879214d4812",
   "metadata": {
    "deletable": false,
    "editable": false,
    "otter": {
     "tests": [
      "q4.3.2"
     ]
    }
   },
   "source": [
    "#### 4.3.3)\n",
    "\n",
    "What predictor should we use? This is denoted by the variable $C$.\n",
    "\n",
    "a) $\\theta$\n",
    "\n",
    "b) $\\theta_{\\mathrm{best}}(\\lambda)$\n",
    "\n",
    "c) $\\theta^{*}$\n",
    "\n",
    "\n",
    "\n",
    "_Points:_ 1.25"
   ]
  },
  {
   "cell_type": "code",
   "execution_count": 703,
   "id": "394e5b72-3ff2-4fd7-a988-3470076d0429",
   "metadata": {
    "tags": [
     "otter_answer_cell"
    ]
   },
   "outputs": [],
   "source": [
    "# set ans = \"a\" for a), ans = \"b\" for b), and ans = \"c\" for c)\n",
    "ans_433 = \"a\""
   ]
  },
  {
   "cell_type": "markdown",
   "id": "39fca54c-cdf1-45d0-bb22-a6a3afd15704",
   "metadata": {
    "deletable": false,
    "editable": false
   },
   "source": [
    "#### 4.3.4)\n",
    "\n",
    "What regularizer should we use? This is denoted by the variable $D$.\n",
    "\n",
    "a) 0\n",
    "\n",
    "b) $\\lambda$\n",
    "\n",
    "c) $\\lambda^*$\n",
    "\n",
    "d) $\\lambda\\|\\theta\\|^2$\n",
    "\n",
    "e) $\\lambda^*\\|\\theta\\|^2$\n",
    "\n",
    "\n",
    "\n",
    "_Points:_ 1.25"
   ]
  },
  {
   "cell_type": "code",
   "execution_count": 704,
   "id": "99968bbb-dfbb-4616-912f-703f34da7e8f",
   "metadata": {
    "tags": [
     "otter_answer_cell"
    ]
   },
   "outputs": [],
   "source": [
    "# set ans = \"a\" for a), ans = \"b\" for b), ans = \"c\" for c), ans = \"d\" for d), and ans = \"e\" for e)\n",
    "ans_434 = \"e\""
   ]
  },
  {
   "cell_type": "markdown",
   "id": "66f81241-1573-4bc2-9e7f-4bfaab2e298a",
   "metadata": {},
   "source": [
    "### 4.4) Evaluation in practice (5 pts)\n",
    "\n",
    "Evaluating the actual on-the-job performance $\\epsilon^*$ of the selected hypothesis from validation. $$\\epsilon^* = \\frac{1}{B}\\sum_{(x,y)\\in B} (C^\\top x-y)^2 /2 + D\\enspace.$$\n"
   ]
  },
  {
   "cell_type": "markdown",
   "id": "5daaf23f-de5b-41da-8df7-7cd04780c971",
   "metadata": {
    "deletable": false,
    "editable": false
   },
   "source": [
    "#### 4.4.1)\n",
    "\n",
    "What dataset should we use? This is denoted by the variable $B$.\n",
    "\n",
    "a) $\\mathcal{D}_{\\mathrm{train}}$\n",
    "\n",
    "b) $\\mathcal{D}_{\\mathrm{val}}$\n",
    "\n",
    "c) $\\mathcal{D}_{\\mathrm{train}} \\cup \\mathcal{D}_{\\mathrm{val}}$\n",
    "\n",
    "d) $\\mathcal{D}_{\\mathrm{test}}$\n",
    "\n",
    "\n",
    "\n",
    "_Points:_ 2"
   ]
  },
  {
   "cell_type": "code",
   "execution_count": 705,
   "id": "d78ae528-0b05-4dff-a34b-bf99834e5739",
   "metadata": {
    "tags": [
     "otter_answer_cell"
    ]
   },
   "outputs": [],
   "source": [
    "# set ans = \"a\" for a), ans = \"b\" for b), ans = \"c\" for c), and ans = \"d\" for d)\n",
    "ans_441 = \"d\""
   ]
  },
  {
   "cell_type": "markdown",
   "id": "932d3563-83f1-4b5e-9653-5eff18ea1072",
   "metadata": {
    "deletable": false,
    "editable": false
   },
   "source": [
    "#### 4.4.2)\n",
    "\n",
    "What predictor should we use? This is denoted by the variable $C$.\n",
    "\n",
    "a) $\\theta$\n",
    "\n",
    "b) $\\theta_{\\mathrm{best}}(\\lambda)$\n",
    "\n",
    "c) $\\theta^{*}$\n",
    "\n",
    "\n",
    "\n",
    "_Points:_ 1.5"
   ]
  },
  {
   "cell_type": "code",
   "execution_count": 706,
   "id": "c9b333ac-7f29-413e-b45c-6b500c49e2e9",
   "metadata": {
    "tags": [
     "otter_answer_cell"
    ]
   },
   "outputs": [],
   "source": [
    "# set ans = \"a\" for a), ans = \"b\" for b), and ans = \"c\" for c)\n",
    "ans_442 = \"c\""
   ]
  },
  {
   "cell_type": "markdown",
   "id": "573abc9b-76f4-4af9-aaf5-95dab81fbde2",
   "metadata": {
    "deletable": false,
    "editable": false
   },
   "source": [
    "#### 4.4.3)\n",
    "\n",
    "What regularizer should we use? This is denoted by the variable $D$.\n",
    "\n",
    "a) 0\n",
    "\n",
    "b) $\\lambda$\n",
    "\n",
    "c) $\\lambda^*$\n",
    "\n",
    "d) $\\lambda\\|\\theta\\|^2$\n",
    "\n",
    "e) $\\lambda^*\\|\\theta\\|^2$\n",
    "\n",
    "\n",
    "\n",
    "_Points:_ 1.5"
   ]
  },
  {
   "cell_type": "code",
   "execution_count": 707,
   "id": "931d48ac-a18e-43ab-aad1-b106da474f53",
   "metadata": {
    "tags": [
     "otter_answer_cell"
    ]
   },
   "outputs": [],
   "source": [
    "# set ans = \"a\" for a), ans = \"b\" for b), ans = \"c\" for c), ans = \"d\" for d), and ans = \"e\" for e)\n",
    "ans_443 = \"a\""
   ]
  },
  {
   "cell_type": "markdown",
   "id": "1dfc03c2-03f5-45ef-b69d-2ebd427bf20b",
   "metadata": {},
   "source": [
    "## 5) Regularization and cross-validation (20 pts)\n",
    "\n",
    "We will now try to synthesize what we've learned in order to perform ridge regression on the DataCommons [public health dataset](https://docs.google.com/spreadsheets/d/1PBn5wbBJCBBJ8jJUcbMfD8ECDSpfcFea/preview). We will employ regularization with the goal of building a model that generalizes better (than without regularization) to unseen data.\n",
    "\n",
    "The overall objective function for ridge regression is: $$J_\\mathrm{ridge}(\\theta, \\theta_0) = \\frac{1}{n}\\sum_{i=1}^n(\\theta^\\top x^{(i)} + \\theta_0 - y^{(i)})^2 + \\lambda \\|\\theta\\|^2\\enspace.$$\n",
    "\n",
    "Remarkably, there is an analytical function giving $\\Theta=(\\theta, \\theta_0)$ which minimizes this objective, given $X$, $Y$, and $\\lambda$. But how should we choose $\\lambda$?\n",
    "\n",
    "To choose an optimum $\\lambda$, we can use the following approach. Each particular value of $\\lambda$ leads us to a different linear regression model. And we want the best model: one which balances providing good predictions (fitting well to given training data) with generalizing well (avoiding over-fitting training data). And as we saw in our Regression lecture, we can employ **cross-validation** to evaluate and compare different models.\n",
    "\n",
    "### Implementation of cross-validation algorithm\n",
    "\n",
    "Let us begin by implementing this algorithm for cross-validation:\n",
    "\n",
    "```\n",
    "Cross-Validate(D, k)\n",
    "divide D into k chunks D_1, D_2, ..., D_k (of roughly equal size)\n",
    "for i = 1 to k\n",
    "    train h_i on D \\ D_i (withholding chunk D_i)\n",
    "    compute \"test\" error E_i(h_i) on withheld data D_i\n",
    "return 1/k \\sum_(i=1)^k E_i(h_i)\n",
    "```"
   ]
  },
  {
   "cell_type": "markdown",
   "id": "a0b68872-e3ee-46cf-98ae-ae7d18f5c215",
   "metadata": {
    "deletable": false,
    "editable": false
   },
   "source": [
    "### 5.1)\n",
    "\n",
    "Let's implement the cross-validation algorithm as the procedure `cross_validate`, which takes the following input arguments:\n",
    "- `X`: the list of data points ($n \\times d$)\n",
    "- `Y`: the true values of the labels ($n \\times 1$)\n",
    "- `n_splits`: the number of chunks to divide the dataset into\n",
    "- `lam`: the regularization parameter\n",
    "- `learning_algorithm`: a function that takes `X`, `Y`, `lam`, and returns `th`, `th0`\n",
    "- `loss_function`: a function that takes `X`, `Y`, `th`, `th0`, and returns a **1 x 1 array**\n",
    "\n",
    "`cross_validate` should return a **scalar** (not a $1\\times1$ array), the cross-validation error of applying the learning algorithm on the list of data points.\n",
    "\n",
    "Note that this is a generic version of cross-validation, that can be applied to any learning algorithm and any loss function. Later in this problem, we will use cross-validation specifically for ridge regression and mean square loss.\n",
    "\n",
    "You have the following function available to you (note: you don't need to read the code, but are welcome to do so; the description of the inputs/outputs should be all that you need to complete the assignment):"
   ]
  },
  {
   "cell_type": "code",
   "execution_count": 708,
   "id": "678ea8c9-43ca-43c6-b729-2f2eb1ccf9f3",
   "metadata": {
    "deletable": false,
    "editable": false
   },
   "outputs": [],
   "source": [
    "def make_splits(X, Y, n_splits):\n",
    "    '''\n",
    "    Splits the dataset into n_split chunks, creating n_split sets of\n",
    "    cross-validation data.\n",
    "    Returns a list of n_split tuples (X_train, Y_train, X_test, Y_test).\n",
    "    For the ith returned tuple:\n",
    "    * X_train and Y_train include all data except the ith chunk, and\n",
    "    * X_test and Y_test are the ith chunk.\n",
    "\n",
    "    X : n x d numpy array (d = #features, n = #data points)\n",
    "    Y : n x 1 numpy array\n",
    "    n_splits : integer\n",
    "    ''' \n",
    "    n, d = X.shape\n",
    "    all_indices = np.arange(n)\n",
    "    split_indices = np.array_split(all_indices, n_splits)\n",
    "    ret_list = []\n",
    "    for i in range(n_splits):\n",
    "        mask = np.zeros(n, dtype=bool)\n",
    "        mask[split_indices[i]] = True\n",
    "        ret_list.append((X[~mask], Y[~mask], X[mask], Y[mask]))\n",
    "    return ret_list"
   ]
  },
  {
   "cell_type": "markdown",
   "id": "f69c9014-1eb3-46cb-a8b0-ee44ff3e7792",
   "metadata": {
    "deletable": false,
    "editable": false
   },
   "source": [
    "**Note: to debug your `cross_validate` function, you might find it useful to use the functions `ridge_analytic` and `mse`, defined in the next question, to pass as the `learning_algorithm` and `loss_function` arguments.** \n",
    "\n",
    "\n",
    "_Points:_ 10"
   ]
  },
  {
   "cell_type": "code",
   "execution_count": 709,
   "id": "68bec2ed-6cde-47ec-bdb4-e00f9671630c",
   "metadata": {
    "tags": [
     "otter_answer_cell"
    ]
   },
   "outputs": [],
   "source": [
    "def cross_validate_51(X, Y, n_splits, lam, learning_algorithm, loss_function):\n",
    "    '''\n",
    "    Performs n_splits-fold cross-validation on the dataset (X, Y) using the\n",
    "    specified learning algorithm and loss function.\n",
    "    Returns the average loss across the n_splits folds.\n",
    "\n",
    "    - `X`: the list of data points (n x d)\n",
    "    - `Y`: the true values of the labels (n x 1)\n",
    "    - `n_splits`: the number of chunks to divide the dataset into\n",
    "    - `lam`: the regularization parameter\n",
    "    - `learning_algorithm`: a function that takes `X`, `Y`, `lam`, and returns `th`, `th0`\n",
    "    - `loss_function`: a function that takes `X`, `Y`, `th`, `th0`, and returns a **1 x 1 array**\n",
    "    '''\n",
    "    splits = make_splits(X, Y, n_splits)\n",
    "    losses = []\n",
    "    for X_train, Y_train, X_test, Y_test in splits:\n",
    "        th, th0 = learning_algorithm(X_train, Y_train, lam)\n",
    "        error = loss_function(X_train, Y_train, th, th0)\n",
    "        losses.append(error.item())\n",
    "     \n",
    "    return np.mean(losses).item()"
   ]
  },
  {
   "cell_type": "code",
   "execution_count": 710,
   "id": "94f61950",
   "metadata": {
    "deletable": false,
    "editable": false
   },
   "outputs": [
    {
     "data": {
      "text/html": [
       "<p><strong><pre style='display: inline;'>q5.1</pre></strong> passed! 🌈</p>"
      ],
      "text/plain": [
       "q5.1 results: All test cases passed!"
      ]
     },
     "execution_count": 710,
     "metadata": {},
     "output_type": "execute_result"
    }
   ],
   "source": [
    "grader.check(\"q5.1\")"
   ]
  },
  {
   "cell_type": "markdown",
   "id": "807dbb48-2538-4e81-ae85-6757fc896fe5",
   "metadata": {},
   "source": [
    "### Optimization of regularization parameter\n",
    "\n",
    "Now that you have implemented a cross-validation algorithm, I want you to think about finding an optimum value of $\\lambda$ for predicting obesity rates."
   ]
  },
  {
   "cell_type": "markdown",
   "id": "65891470-9aa2-4866-84ac-b658cadf9692",
   "metadata": {
    "deletable": false,
    "editable": false
   },
   "source": [
    "### 5.2)\n",
    "\n",
    "Below, `X_52` and `Y_52` are sample data, and `lams_52` is a list of possible values of $\\lambda$. Write code to set `errors_52` as a **list** of corresponding cross-validation errors. Use the `cross_validate` function above to run cross-validation with three splits. Use the following function (which I implement for you -- again no need to read the code, just the specs) as the learning algorithm, and your `lin_reg_err` function from earlier as the loss function:\n"
   ]
  },
  {
   "cell_type": "code",
   "execution_count": 711,
   "id": "e0feff98-b481-40f2-a10b-e1b436cde765",
   "metadata": {
    "deletable": false,
    "editable": false
   },
   "outputs": [],
   "source": [
    "def ridge_analytic(X_train, Y_train, lam):\n",
    "    ''' Applies analyitic ridge regression on the given training data.\n",
    "    Returns th, th0.\n",
    "\n",
    "    X : d x n numpy array (d = # features, n = # data points)\n",
    "    Y : 1 x n numpy array\n",
    "    lam : (float) regularization strength parameter\n",
    "    th : d x 1 numpy array\n",
    "    th0 : 1 x 1 numpy array'''\n",
    "    _, d = X_train.shape\n",
    "    xm = np.mean(X_train, axis=0, keepdims=True)\n",
    "    ym = np.mean(Y_train)\n",
    "    Z = X_train - xm\n",
    "    T = Y_train - ym\n",
    "    th = np.linalg.inv(Z.T @ Z + lam * np.identity(d)) @ Z.T @ T\n",
    "    th0 = (ym - xm @ th)\n",
    "    return (th, th0)"
   ]
  },
  {
   "cell_type": "code",
   "execution_count": 712,
   "id": "d730f69b-b0f0-4a5f-b134-02e4467f9df2",
   "metadata": {
    "tags": [
     "otter_answer_cell"
    ]
   },
   "outputs": [],
   "source": [
    "X_52 = np.array([[4, 1, 2, 1], \n",
    "              [6, 1, 2, 2],\n",
    "              [8, 6, 2, 3],\n",
    "              [2, 0, 6, 4],\n",
    "              [9, 5, 7, 5],\n",
    "              [10, 8, 4, 6],\n",
    "              [11, 7, 9, 7],\n",
    "              [17, 9, 8, 8]])\n",
    "Y_52 = np.array([[1], [3], [3], [4], [7], [6], [7], [7]])\n",
    "lams_52 = [0, 0.01, 0.02, 0.1]\n",
    "errors_52 = [cross_validate_51(X_52, Y_52, 3, lam, ridge_analytic, lin_reg_err_25) for lam in lams_52]"
   ]
  },
  {
   "cell_type": "code",
   "execution_count": 713,
   "id": "bd15610e",
   "metadata": {
    "deletable": false,
    "editable": false
   },
   "outputs": [
    {
     "data": {
      "text/html": [
       "<p><strong><pre style='display: inline;'>q5.2</pre></strong> passed! 🎉</p>"
      ],
      "text/plain": [
       "q5.2 results: All test cases passed!"
      ]
     },
     "execution_count": 713,
     "metadata": {},
     "output_type": "execute_result"
    }
   ],
   "source": [
    "grader.check(\"q5.2\")"
   ]
  },
  {
   "cell_type": "markdown",
   "id": "4e4ed785-4ca6-444d-ac5a-4231bde05e03",
   "metadata": {},
   "source": [
    "Given the cross-validation errors for multiple values of $\\lambda$, you could simply pick $\\lambda^*$ to be the value for which the error is lowest, and use it to train a model on all of $\\mathcal{D}_{\\mathrm{train}}$."
   ]
  },
  {
   "cell_type": "markdown",
   "id": "a25afeb7",
   "metadata": {
    "deletable": false,
    "editable": false
   },
   "source": [
    "## Submission\n",
    "\n",
    "Make sure you have run all cells in your notebook in order before running the cell below, so that all images/graphs appear in the output. The cell below will generate a zip file for you to submit. **Please save before exporting!**\n",
    "\n",
    "Fill out the answers to all questions and submit your file hw1.ipynb to the HW1 assignment on Gradescope. You are free to resubmit as many times as you wish. If the code below throws an error about not being able to generate a PDF, don't worry about it. Your notebook should still be okay."
   ]
  },
  {
   "cell_type": "code",
   "execution_count": 714,
   "id": "e94b7647",
   "metadata": {
    "deletable": false,
    "editable": false
   },
   "outputs": [
    {
     "name": "stdout",
     "output_type": "stream",
     "text": [
      "Running your submission against local test cases...\n",
      "\n"
     ]
    },
    {
     "name": "stdout",
     "output_type": "stream",
     "text": [
      "\n",
      "Your submission received the following results when run against available test cases:\n",
      "\n",
      "    q1.1.2 results: All test cases passed!\n",
      "\n",
      "    q1.2.1 results: All test cases passed!\n",
      "\n",
      "    q1.2.2 results: All test cases passed!\n",
      "\n",
      "    q1.2.3 results: All test cases passed!\n",
      "\n",
      "    q1.2.4 results: All test cases passed!\n",
      "\n",
      "    q1.2.5 results: All test cases passed!\n",
      "\n",
      "    q1.2.6 results: All test cases passed!\n",
      "\n",
      "    q1.2.7 results: All test cases passed!\n",
      "\n",
      "    q1.3.1 results: All test cases passed!\n",
      "\n",
      "    q1.3.2 results: All test cases passed!\n",
      "\n",
      "    q1.3.3 results: All test cases passed!\n",
      "\n",
      "    q1.3.4 results: All test cases passed!\n",
      "\n",
      "    q1.3.5 results: All test cases passed!\n",
      "\n",
      "    q1.3.6 results: All test cases passed!\n",
      "\n",
      "    q1.3.7 results: All test cases passed!\n",
      "\n",
      "    q1.3.8 results: All test cases passed!\n",
      "\n",
      "    q1.4.1 results: All test cases passed!\n",
      "\n",
      "    q1.4.2 results: All test cases passed!\n",
      "\n",
      "    q1.4.3 results: All test cases passed!\n",
      "\n",
      "    q1.4.4 results: All test cases passed!\n",
      "\n",
      "    q1.4.5 results: All test cases passed!\n",
      "\n",
      "    q1.4.6 results: All test cases passed!\n",
      "\n",
      "    q1.5.1 results: All test cases passed!\n",
      "\n",
      "    q1.5.2 results: All test cases passed!\n",
      "\n",
      "    q2.1 results: All test cases passed!\n",
      "\n",
      "    q2.2 results: All test cases passed!\n",
      "\n",
      "    q2.3 results: All test cases passed!\n",
      "\n",
      "    q2.4 results: All test cases passed!\n",
      "\n",
      "    q2.5 results: All test cases passed!\n",
      "\n",
      "    q3.1 results: All test cases passed!\n",
      "\n",
      "    q3.2 results: All test cases passed!\n",
      "\n",
      "    q3.3 results: All test cases passed!\n",
      "\n",
      "    q3.4 results: All test cases passed!\n",
      "\n",
      "    q3.5 results: All test cases passed!\n",
      "\n",
      "    q4.3.2 results: All test cases passed!\n",
      "\n",
      "    q5.1 results: All test cases passed!\n",
      "\n",
      "    q5.2 results: All test cases passed!\n",
      "\n",
      "    q4.2.3 results: All test cases passed!\n",
      "\n",
      "    q4.2.4 results: All test cases passed!\n",
      "\n",
      "    q4.4.3 results: All test cases passed!\n",
      "\n",
      "    q4.4.1 results: All test cases passed!\n",
      "\n",
      "    q4.3.1 results: All test cases passed!\n",
      "\n",
      "    q4.3.3 results: All test cases passed!\n",
      "\n",
      "    q4.1.2 results: All test cases passed!\n",
      "\n",
      "    q4.1.4 results: All test cases passed!\n",
      "\n",
      "    q4.2.2 results: All test cases passed!\n",
      "\n",
      "    q4.1.1 results: All test cases passed!\n",
      "\n",
      "    q3.6 results: All test cases passed!\n",
      "\n",
      "    q4.2.1 results: All test cases passed!\n",
      "\n",
      "    q1.1.1 results: All test cases passed!\n",
      "\n",
      "    q4.3.4 results: All test cases passed!\n",
      "\n",
      "    q3.7 results: All test cases passed!\n",
      "\n",
      "    q4.1.3 results: All test cases passed!\n",
      "\n",
      "    q4.4.2 results: All test cases passed!\n"
     ]
    },
    {
     "data": {
      "text/html": [
       "\n",
       "                    <p>\n",
       "                        Your submission has been exported. Click\n",
       "                        <a href=\"hw1_2025_09_01T20_55_45_792170.zip\" download=\"hw1_2025_09_01T20_55_45_792170.zip\" target=\"_blank\">here</a> to download\n",
       "                        the zip file.\n",
       "                    </p>\n",
       "                "
      ],
      "text/plain": [
       "<IPython.core.display.HTML object>"
      ]
     },
     "metadata": {},
     "output_type": "display_data"
    }
   ],
   "source": [
    "# Save your notebook first, then run this cell to export your submission.\n",
    "grader.export(pdf=False, run_tests=True)"
   ]
  }
 ],
 "metadata": {
  "kernelspec": {
   "display_name": "robotic",
   "language": "python",
   "name": "python3"
  },
  "language_info": {
   "codemirror_mode": {
    "name": "ipython",
    "version": 3
   },
   "file_extension": ".py",
   "mimetype": "text/x-python",
   "name": "python",
   "nbconvert_exporter": "python",
   "pygments_lexer": "ipython3",
   "version": "3.10.16"
  },
  "otter": {
   "assignment_name": "hw1"
  }
 },
 "nbformat": 4,
 "nbformat_minor": 5
}
